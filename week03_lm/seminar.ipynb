{
  "cells": [
    {
      "cell_type": "markdown",
      "metadata": {
        "cellId": "k1gpzj4guo8e1riwj3om1k",
        "id": "wTLgFjhVjzzt"
      },
      "source": [
        "### N-gram language models or how to write scientific papers (4 pts)\n",
        "\n",
        "We shall train our language model on a corpora of [ArXiv](http://arxiv.org/) articles and see if we can generate a new one!\n",
        "\n",
        "![img](https://media.npr.org/assets/img/2013/12/10/istock-18586699-monkey-computer_brick-16e5064d3378a14e0e4c2da08857efe03c04695e-s800-c85.jpg)\n",
        "\n",
        "_data by neelshah18 from [here](https://www.kaggle.com/neelshah18/arxivdataset/)_\n",
        "\n",
        "_Disclaimer: this has nothing to do with actual science. But it's fun, so who cares?!_"
      ]
    },
    {
      "cell_type": "code",
      "execution_count": 1,
      "metadata": {
        "cellId": "u8jdaiy68oib3jvr4k01",
        "id": "i2XBw3B7jzzx"
      },
      "outputs": [],
      "source": [
        "import numpy as np\n",
        "import pandas as pd\n",
        "import matplotlib.pyplot as plt\n",
        "%matplotlib inline"
      ]
    },
    {
      "cell_type": "code",
      "execution_count": 2,
      "metadata": {
        "cellId": "0c76vnyl3zui9yhtkodgrlf",
        "id": "rgsuwRgYjzzy",
        "outputId": "1b5c895e-e5b1-429d-d2a5-f4b958e49d36",
        "colab": {
          "base_uri": "https://localhost:8080/",
          "height": 1000
        }
      },
      "outputs": [
        {
          "output_type": "stream",
          "name": "stdout",
          "text": [
            "--2024-10-12 22:58:17--  https://www.dropbox.com/s/99az9n1b57qkd9j/arxivData.json.tar.gz?dl=1\n",
            "Resolving www.dropbox.com (www.dropbox.com)... 162.125.81.18, 2620:100:6035:18::a27d:5512\n",
            "Connecting to www.dropbox.com (www.dropbox.com)|162.125.81.18|:443... connected.\n",
            "HTTP request sent, awaiting response... 302 Found\n",
            "Location: https://www.dropbox.com/scl/fi/0mulrothty5o8i8ud9gz2/arxivData.json.tar.gz?rlkey=n759u5qx2xpxxglmrl390vwvk&dl=1 [following]\n",
            "--2024-10-12 22:58:18--  https://www.dropbox.com/scl/fi/0mulrothty5o8i8ud9gz2/arxivData.json.tar.gz?rlkey=n759u5qx2xpxxglmrl390vwvk&dl=1\n",
            "Reusing existing connection to www.dropbox.com:443.\n",
            "HTTP request sent, awaiting response... 302 Found\n",
            "Location: https://uc376bec11e2922e9fd7f157bf9b.dl.dropboxusercontent.com/cd/0/inline/CcU6P7viN_2qMmepZfwk_d_aser4YUkQbiUGrftZSQnzmzmZ12qXRLsaLsiY96BOR2Pnuqi-T1DHvJRROXJzU6Kn5HJ_STBhC-6ZXqlFq28S3-3XoGP8LomNvMOtXI0fRhQ/file?dl=1# [following]\n",
            "--2024-10-12 22:58:19--  https://uc376bec11e2922e9fd7f157bf9b.dl.dropboxusercontent.com/cd/0/inline/CcU6P7viN_2qMmepZfwk_d_aser4YUkQbiUGrftZSQnzmzmZ12qXRLsaLsiY96BOR2Pnuqi-T1DHvJRROXJzU6Kn5HJ_STBhC-6ZXqlFq28S3-3XoGP8LomNvMOtXI0fRhQ/file?dl=1\n",
            "Resolving uc376bec11e2922e9fd7f157bf9b.dl.dropboxusercontent.com (uc376bec11e2922e9fd7f157bf9b.dl.dropboxusercontent.com)... 162.125.80.15, 2620:100:6035:15::a27d:550f\n",
            "Connecting to uc376bec11e2922e9fd7f157bf9b.dl.dropboxusercontent.com (uc376bec11e2922e9fd7f157bf9b.dl.dropboxusercontent.com)|162.125.80.15|:443... connected.\n",
            "HTTP request sent, awaiting response... 302 Found\n",
            "Location: /cd/0/inline2/CcVg-UXhrjj38C67Ux8chhofRoaN6mN75q6b7gOkQzgElWWH56HoPgOqXE6foZeMdgTECLaAh6NRqaB6rp6c6u-pca9HYhfiVornpNKmYugWjmMiDdR_mqb8sQz-3IoLmExJ29K_ilJ386fXwAA2NkTZvAqpIRgdWZEMWo9h9EJo1n3G7FaxjR0jHKzoCH09dhsPICwbw9xZ_hLscTSq0Y9Vy6MGCaiinJBYXTGUnhEmYS1RRAXMsE5BPJBQZ7DvxfkgAVImTSSdc13GBWs93w6Ab_lNTevIU2VsUl-Y5_Iv6EJ5GH_x8yfTGvZPmpUGxmW8vJo9m3eOSMMfdqd03MbILDxef3PZJg5I0wkESC7aFw/file?dl=1 [following]\n",
            "--2024-10-12 22:58:20--  https://uc376bec11e2922e9fd7f157bf9b.dl.dropboxusercontent.com/cd/0/inline2/CcVg-UXhrjj38C67Ux8chhofRoaN6mN75q6b7gOkQzgElWWH56HoPgOqXE6foZeMdgTECLaAh6NRqaB6rp6c6u-pca9HYhfiVornpNKmYugWjmMiDdR_mqb8sQz-3IoLmExJ29K_ilJ386fXwAA2NkTZvAqpIRgdWZEMWo9h9EJo1n3G7FaxjR0jHKzoCH09dhsPICwbw9xZ_hLscTSq0Y9Vy6MGCaiinJBYXTGUnhEmYS1RRAXMsE5BPJBQZ7DvxfkgAVImTSSdc13GBWs93w6Ab_lNTevIU2VsUl-Y5_Iv6EJ5GH_x8yfTGvZPmpUGxmW8vJo9m3eOSMMfdqd03MbILDxef3PZJg5I0wkESC7aFw/file?dl=1\n",
            "Reusing existing connection to uc376bec11e2922e9fd7f157bf9b.dl.dropboxusercontent.com:443.\n",
            "HTTP request sent, awaiting response... 200 OK\n",
            "Length: 18933283 (18M) [application/binary]\n",
            "Saving to: ‘arxivData.json.tar.gz’\n",
            "\n",
            "arxivData.json.tar. 100%[===================>]  18.06M  29.6MB/s    in 0.6s    \n",
            "\n",
            "2024-10-12 22:58:21 (29.6 MB/s) - ‘arxivData.json.tar.gz’ saved [18933283/18933283]\n",
            "\n",
            "arxivData.json\n"
          ]
        },
        {
          "output_type": "execute_result",
          "data": {
            "text/plain": [
              "                                                  author  day            id  \\\n",
              "2866   [{'name': 'Mahmoud Hamandi'}, {'name': \"Mike D...    9  1803.03719v1   \n",
              "30290  [{'name': 'Jhony K. Pontes'}, {'name': 'Chen K...   29  1711.10669v1   \n",
              "21672  [{'name': 'Ryan Prescott Adams'}, {'name': 'Da...   19   0710.3742v1   \n",
              "13109  [{'name': 'Adrian Šošić'}, {'name': 'Abdelhak ...    4  1605.01278v4   \n",
              "4016   [{'name': 'Sandhya Arora'}, {'name': 'Debotosh...   21   1005.4032v1   \n",
              "\n",
              "                                                    link  month  \\\n",
              "2866   [{'rel': 'alternate', 'href': 'http://arxiv.or...      3   \n",
              "30290  [{'rel': 'alternate', 'href': 'http://arxiv.or...     11   \n",
              "21672  [{'rel': 'alternate', 'href': 'http://arxiv.or...     10   \n",
              "13109  [{'rel': 'related', 'href': 'http://dx.doi.org...      5   \n",
              "4016   [{'rel': 'alternate', 'href': 'http://arxiv.or...      5   \n",
              "\n",
              "                                                 summary  \\\n",
              "2866   We present a novel human-aware navigation appr...   \n",
              "30290  One challenge that remains open in 3D deep lea...   \n",
              "21672  Changepoints are abrupt variations in the gene...   \n",
              "13109  Learning from demonstration (LfD) is the proce...   \n",
              "4016   In this paper we present an OCR for Handwritte...   \n",
              "\n",
              "                                                     tag  \\\n",
              "2866   [{'term': 'cs.RO', 'scheme': 'http://arxiv.org...   \n",
              "30290  [{'term': 'cs.CV', 'scheme': 'http://arxiv.org...   \n",
              "21672  [{'term': 'stat.ML', 'scheme': 'http://arxiv.o...   \n",
              "13109  [{'term': 'stat.ML', 'scheme': 'http://arxiv.o...   \n",
              "4016   [{'term': 'cs.CV', 'scheme': 'http://arxiv.org...   \n",
              "\n",
              "                                                   title  year  \n",
              "2866        DeepMoTIon: Learning to Navigate Like Humans  2018  \n",
              "30290  Image2Mesh: A Learning Framework for Single Im...  2017  \n",
              "21672              Bayesian Online Changepoint Detection  2007  \n",
              "13109  A Bayesian Approach to Policy Recognition and ...  2016  \n",
              "4016   Combining Multiple Feature Extraction Techniqu...  2010  "
            ],
            "text/html": [
              "\n",
              "  <div id=\"df-bf2b8bb0-282f-43dd-a51b-b3a393d078b6\" class=\"colab-df-container\">\n",
              "    <div>\n",
              "<style scoped>\n",
              "    .dataframe tbody tr th:only-of-type {\n",
              "        vertical-align: middle;\n",
              "    }\n",
              "\n",
              "    .dataframe tbody tr th {\n",
              "        vertical-align: top;\n",
              "    }\n",
              "\n",
              "    .dataframe thead th {\n",
              "        text-align: right;\n",
              "    }\n",
              "</style>\n",
              "<table border=\"1\" class=\"dataframe\">\n",
              "  <thead>\n",
              "    <tr style=\"text-align: right;\">\n",
              "      <th></th>\n",
              "      <th>author</th>\n",
              "      <th>day</th>\n",
              "      <th>id</th>\n",
              "      <th>link</th>\n",
              "      <th>month</th>\n",
              "      <th>summary</th>\n",
              "      <th>tag</th>\n",
              "      <th>title</th>\n",
              "      <th>year</th>\n",
              "    </tr>\n",
              "  </thead>\n",
              "  <tbody>\n",
              "    <tr>\n",
              "      <th>2866</th>\n",
              "      <td>[{'name': 'Mahmoud Hamandi'}, {'name': \"Mike D...</td>\n",
              "      <td>9</td>\n",
              "      <td>1803.03719v1</td>\n",
              "      <td>[{'rel': 'alternate', 'href': 'http://arxiv.or...</td>\n",
              "      <td>3</td>\n",
              "      <td>We present a novel human-aware navigation appr...</td>\n",
              "      <td>[{'term': 'cs.RO', 'scheme': 'http://arxiv.org...</td>\n",
              "      <td>DeepMoTIon: Learning to Navigate Like Humans</td>\n",
              "      <td>2018</td>\n",
              "    </tr>\n",
              "    <tr>\n",
              "      <th>30290</th>\n",
              "      <td>[{'name': 'Jhony K. Pontes'}, {'name': 'Chen K...</td>\n",
              "      <td>29</td>\n",
              "      <td>1711.10669v1</td>\n",
              "      <td>[{'rel': 'alternate', 'href': 'http://arxiv.or...</td>\n",
              "      <td>11</td>\n",
              "      <td>One challenge that remains open in 3D deep lea...</td>\n",
              "      <td>[{'term': 'cs.CV', 'scheme': 'http://arxiv.org...</td>\n",
              "      <td>Image2Mesh: A Learning Framework for Single Im...</td>\n",
              "      <td>2017</td>\n",
              "    </tr>\n",
              "    <tr>\n",
              "      <th>21672</th>\n",
              "      <td>[{'name': 'Ryan Prescott Adams'}, {'name': 'Da...</td>\n",
              "      <td>19</td>\n",
              "      <td>0710.3742v1</td>\n",
              "      <td>[{'rel': 'alternate', 'href': 'http://arxiv.or...</td>\n",
              "      <td>10</td>\n",
              "      <td>Changepoints are abrupt variations in the gene...</td>\n",
              "      <td>[{'term': 'stat.ML', 'scheme': 'http://arxiv.o...</td>\n",
              "      <td>Bayesian Online Changepoint Detection</td>\n",
              "      <td>2007</td>\n",
              "    </tr>\n",
              "    <tr>\n",
              "      <th>13109</th>\n",
              "      <td>[{'name': 'Adrian Šošić'}, {'name': 'Abdelhak ...</td>\n",
              "      <td>4</td>\n",
              "      <td>1605.01278v4</td>\n",
              "      <td>[{'rel': 'related', 'href': 'http://dx.doi.org...</td>\n",
              "      <td>5</td>\n",
              "      <td>Learning from demonstration (LfD) is the proce...</td>\n",
              "      <td>[{'term': 'stat.ML', 'scheme': 'http://arxiv.o...</td>\n",
              "      <td>A Bayesian Approach to Policy Recognition and ...</td>\n",
              "      <td>2016</td>\n",
              "    </tr>\n",
              "    <tr>\n",
              "      <th>4016</th>\n",
              "      <td>[{'name': 'Sandhya Arora'}, {'name': 'Debotosh...</td>\n",
              "      <td>21</td>\n",
              "      <td>1005.4032v1</td>\n",
              "      <td>[{'rel': 'alternate', 'href': 'http://arxiv.or...</td>\n",
              "      <td>5</td>\n",
              "      <td>In this paper we present an OCR for Handwritte...</td>\n",
              "      <td>[{'term': 'cs.CV', 'scheme': 'http://arxiv.org...</td>\n",
              "      <td>Combining Multiple Feature Extraction Techniqu...</td>\n",
              "      <td>2010</td>\n",
              "    </tr>\n",
              "  </tbody>\n",
              "</table>\n",
              "</div>\n",
              "    <div class=\"colab-df-buttons\">\n",
              "\n",
              "  <div class=\"colab-df-container\">\n",
              "    <button class=\"colab-df-convert\" onclick=\"convertToInteractive('df-bf2b8bb0-282f-43dd-a51b-b3a393d078b6')\"\n",
              "            title=\"Convert this dataframe to an interactive table.\"\n",
              "            style=\"display:none;\">\n",
              "\n",
              "  <svg xmlns=\"http://www.w3.org/2000/svg\" height=\"24px\" viewBox=\"0 -960 960 960\">\n",
              "    <path d=\"M120-120v-720h720v720H120Zm60-500h600v-160H180v160Zm220 220h160v-160H400v160Zm0 220h160v-160H400v160ZM180-400h160v-160H180v160Zm440 0h160v-160H620v160ZM180-180h160v-160H180v160Zm440 0h160v-160H620v160Z\"/>\n",
              "  </svg>\n",
              "    </button>\n",
              "\n",
              "  <style>\n",
              "    .colab-df-container {\n",
              "      display:flex;\n",
              "      gap: 12px;\n",
              "    }\n",
              "\n",
              "    .colab-df-convert {\n",
              "      background-color: #E8F0FE;\n",
              "      border: none;\n",
              "      border-radius: 50%;\n",
              "      cursor: pointer;\n",
              "      display: none;\n",
              "      fill: #1967D2;\n",
              "      height: 32px;\n",
              "      padding: 0 0 0 0;\n",
              "      width: 32px;\n",
              "    }\n",
              "\n",
              "    .colab-df-convert:hover {\n",
              "      background-color: #E2EBFA;\n",
              "      box-shadow: 0px 1px 2px rgba(60, 64, 67, 0.3), 0px 1px 3px 1px rgba(60, 64, 67, 0.15);\n",
              "      fill: #174EA6;\n",
              "    }\n",
              "\n",
              "    .colab-df-buttons div {\n",
              "      margin-bottom: 4px;\n",
              "    }\n",
              "\n",
              "    [theme=dark] .colab-df-convert {\n",
              "      background-color: #3B4455;\n",
              "      fill: #D2E3FC;\n",
              "    }\n",
              "\n",
              "    [theme=dark] .colab-df-convert:hover {\n",
              "      background-color: #434B5C;\n",
              "      box-shadow: 0px 1px 3px 1px rgba(0, 0, 0, 0.15);\n",
              "      filter: drop-shadow(0px 1px 2px rgba(0, 0, 0, 0.3));\n",
              "      fill: #FFFFFF;\n",
              "    }\n",
              "  </style>\n",
              "\n",
              "    <script>\n",
              "      const buttonEl =\n",
              "        document.querySelector('#df-bf2b8bb0-282f-43dd-a51b-b3a393d078b6 button.colab-df-convert');\n",
              "      buttonEl.style.display =\n",
              "        google.colab.kernel.accessAllowed ? 'block' : 'none';\n",
              "\n",
              "      async function convertToInteractive(key) {\n",
              "        const element = document.querySelector('#df-bf2b8bb0-282f-43dd-a51b-b3a393d078b6');\n",
              "        const dataTable =\n",
              "          await google.colab.kernel.invokeFunction('convertToInteractive',\n",
              "                                                    [key], {});\n",
              "        if (!dataTable) return;\n",
              "\n",
              "        const docLinkHtml = 'Like what you see? Visit the ' +\n",
              "          '<a target=\"_blank\" href=https://colab.research.google.com/notebooks/data_table.ipynb>data table notebook</a>'\n",
              "          + ' to learn more about interactive tables.';\n",
              "        element.innerHTML = '';\n",
              "        dataTable['output_type'] = 'display_data';\n",
              "        await google.colab.output.renderOutput(dataTable, element);\n",
              "        const docLink = document.createElement('div');\n",
              "        docLink.innerHTML = docLinkHtml;\n",
              "        element.appendChild(docLink);\n",
              "      }\n",
              "    </script>\n",
              "  </div>\n",
              "\n",
              "\n",
              "<div id=\"df-adfd6fd2-34e1-44a8-aca6-33c3b0b85f46\">\n",
              "  <button class=\"colab-df-quickchart\" onclick=\"quickchart('df-adfd6fd2-34e1-44a8-aca6-33c3b0b85f46')\"\n",
              "            title=\"Suggest charts\"\n",
              "            style=\"display:none;\">\n",
              "\n",
              "<svg xmlns=\"http://www.w3.org/2000/svg\" height=\"24px\"viewBox=\"0 0 24 24\"\n",
              "     width=\"24px\">\n",
              "    <g>\n",
              "        <path d=\"M19 3H5c-1.1 0-2 .9-2 2v14c0 1.1.9 2 2 2h14c1.1 0 2-.9 2-2V5c0-1.1-.9-2-2-2zM9 17H7v-7h2v7zm4 0h-2V7h2v10zm4 0h-2v-4h2v4z\"/>\n",
              "    </g>\n",
              "</svg>\n",
              "  </button>\n",
              "\n",
              "<style>\n",
              "  .colab-df-quickchart {\n",
              "      --bg-color: #E8F0FE;\n",
              "      --fill-color: #1967D2;\n",
              "      --hover-bg-color: #E2EBFA;\n",
              "      --hover-fill-color: #174EA6;\n",
              "      --disabled-fill-color: #AAA;\n",
              "      --disabled-bg-color: #DDD;\n",
              "  }\n",
              "\n",
              "  [theme=dark] .colab-df-quickchart {\n",
              "      --bg-color: #3B4455;\n",
              "      --fill-color: #D2E3FC;\n",
              "      --hover-bg-color: #434B5C;\n",
              "      --hover-fill-color: #FFFFFF;\n",
              "      --disabled-bg-color: #3B4455;\n",
              "      --disabled-fill-color: #666;\n",
              "  }\n",
              "\n",
              "  .colab-df-quickchart {\n",
              "    background-color: var(--bg-color);\n",
              "    border: none;\n",
              "    border-radius: 50%;\n",
              "    cursor: pointer;\n",
              "    display: none;\n",
              "    fill: var(--fill-color);\n",
              "    height: 32px;\n",
              "    padding: 0;\n",
              "    width: 32px;\n",
              "  }\n",
              "\n",
              "  .colab-df-quickchart:hover {\n",
              "    background-color: var(--hover-bg-color);\n",
              "    box-shadow: 0 1px 2px rgba(60, 64, 67, 0.3), 0 1px 3px 1px rgba(60, 64, 67, 0.15);\n",
              "    fill: var(--button-hover-fill-color);\n",
              "  }\n",
              "\n",
              "  .colab-df-quickchart-complete:disabled,\n",
              "  .colab-df-quickchart-complete:disabled:hover {\n",
              "    background-color: var(--disabled-bg-color);\n",
              "    fill: var(--disabled-fill-color);\n",
              "    box-shadow: none;\n",
              "  }\n",
              "\n",
              "  .colab-df-spinner {\n",
              "    border: 2px solid var(--fill-color);\n",
              "    border-color: transparent;\n",
              "    border-bottom-color: var(--fill-color);\n",
              "    animation:\n",
              "      spin 1s steps(1) infinite;\n",
              "  }\n",
              "\n",
              "  @keyframes spin {\n",
              "    0% {\n",
              "      border-color: transparent;\n",
              "      border-bottom-color: var(--fill-color);\n",
              "      border-left-color: var(--fill-color);\n",
              "    }\n",
              "    20% {\n",
              "      border-color: transparent;\n",
              "      border-left-color: var(--fill-color);\n",
              "      border-top-color: var(--fill-color);\n",
              "    }\n",
              "    30% {\n",
              "      border-color: transparent;\n",
              "      border-left-color: var(--fill-color);\n",
              "      border-top-color: var(--fill-color);\n",
              "      border-right-color: var(--fill-color);\n",
              "    }\n",
              "    40% {\n",
              "      border-color: transparent;\n",
              "      border-right-color: var(--fill-color);\n",
              "      border-top-color: var(--fill-color);\n",
              "    }\n",
              "    60% {\n",
              "      border-color: transparent;\n",
              "      border-right-color: var(--fill-color);\n",
              "    }\n",
              "    80% {\n",
              "      border-color: transparent;\n",
              "      border-right-color: var(--fill-color);\n",
              "      border-bottom-color: var(--fill-color);\n",
              "    }\n",
              "    90% {\n",
              "      border-color: transparent;\n",
              "      border-bottom-color: var(--fill-color);\n",
              "    }\n",
              "  }\n",
              "</style>\n",
              "\n",
              "  <script>\n",
              "    async function quickchart(key) {\n",
              "      const quickchartButtonEl =\n",
              "        document.querySelector('#' + key + ' button');\n",
              "      quickchartButtonEl.disabled = true;  // To prevent multiple clicks.\n",
              "      quickchartButtonEl.classList.add('colab-df-spinner');\n",
              "      try {\n",
              "        const charts = await google.colab.kernel.invokeFunction(\n",
              "            'suggestCharts', [key], {});\n",
              "      } catch (error) {\n",
              "        console.error('Error during call to suggestCharts:', error);\n",
              "      }\n",
              "      quickchartButtonEl.classList.remove('colab-df-spinner');\n",
              "      quickchartButtonEl.classList.add('colab-df-quickchart-complete');\n",
              "    }\n",
              "    (() => {\n",
              "      let quickchartButtonEl =\n",
              "        document.querySelector('#df-adfd6fd2-34e1-44a8-aca6-33c3b0b85f46 button');\n",
              "      quickchartButtonEl.style.display =\n",
              "        google.colab.kernel.accessAllowed ? 'block' : 'none';\n",
              "    })();\n",
              "  </script>\n",
              "</div>\n",
              "\n",
              "    </div>\n",
              "  </div>\n"
            ],
            "application/vnd.google.colaboratory.intrinsic+json": {
              "type": "dataframe",
              "summary": "{\n  \"name\": \"data\",\n  \"rows\": 5,\n  \"fields\": [\n    {\n      \"column\": \"author\",\n      \"properties\": {\n        \"dtype\": \"string\",\n        \"num_unique_values\": 5,\n        \"samples\": [\n          \"[{'name': 'Jhony K. Pontes'}, {'name': 'Chen Kong'}, {'name': 'Sridha Sridharan'}, {'name': 'Simon Lucey'}, {'name': 'Anders Eriksson'}, {'name': 'Clinton Fookes'}]\",\n          \"[{'name': 'Sandhya Arora'}, {'name': 'Debotosh Bhattacharjee'}, {'name': 'Mita Nasipuri'}, {'name': 'Dipak Kumar Basu'}, {'name': 'Mahantapas Kundu'}]\",\n          \"[{'name': 'Ryan Prescott Adams'}, {'name': 'David J. C. MacKay'}]\"\n        ],\n        \"semantic_type\": \"\",\n        \"description\": \"\"\n      }\n    },\n    {\n      \"column\": \"day\",\n      \"properties\": {\n        \"dtype\": \"number\",\n        \"std\": 9,\n        \"min\": 4,\n        \"max\": 29,\n        \"num_unique_values\": 5,\n        \"samples\": [\n          29,\n          21,\n          19\n        ],\n        \"semantic_type\": \"\",\n        \"description\": \"\"\n      }\n    },\n    {\n      \"column\": \"id\",\n      \"properties\": {\n        \"dtype\": \"string\",\n        \"num_unique_values\": 5,\n        \"samples\": [\n          \"1711.10669v1\",\n          \"1005.4032v1\",\n          \"0710.3742v1\"\n        ],\n        \"semantic_type\": \"\",\n        \"description\": \"\"\n      }\n    },\n    {\n      \"column\": \"link\",\n      \"properties\": {\n        \"dtype\": \"string\",\n        \"num_unique_values\": 5,\n        \"samples\": [\n          \"[{'rel': 'alternate', 'href': 'http://arxiv.org/abs/1711.10669v1', 'type': 'text/html'}, {'rel': 'related', 'href': 'http://arxiv.org/pdf/1711.10669v1', 'type': 'application/pdf', 'title': 'pdf'}]\",\n          \"[{'rel': 'alternate', 'href': 'http://arxiv.org/abs/1005.4032v1', 'type': 'text/html'}, {'rel': 'related', 'href': 'http://arxiv.org/pdf/1005.4032v1', 'type': 'application/pdf', 'title': 'pdf'}]\",\n          \"[{'rel': 'alternate', 'href': 'http://arxiv.org/abs/0710.3742v1', 'type': 'text/html'}, {'rel': 'related', 'href': 'http://arxiv.org/pdf/0710.3742v1', 'type': 'application/pdf', 'title': 'pdf'}]\"\n        ],\n        \"semantic_type\": \"\",\n        \"description\": \"\"\n      }\n    },\n    {\n      \"column\": \"month\",\n      \"properties\": {\n        \"dtype\": \"number\",\n        \"std\": 3,\n        \"min\": 3,\n        \"max\": 11,\n        \"num_unique_values\": 4,\n        \"samples\": [\n          11,\n          5,\n          3\n        ],\n        \"semantic_type\": \"\",\n        \"description\": \"\"\n      }\n    },\n    {\n      \"column\": \"summary\",\n      \"properties\": {\n        \"dtype\": \"string\",\n        \"num_unique_values\": 5,\n        \"samples\": [\n          \"One challenge that remains open in 3D deep learning is how to efficiently\\nrepresent 3D data to feed deep networks. Recent works have relied on volumetric\\nor point cloud representations, but such approaches suffer from a number of\\nissues such as computational complexity, unordered data, and lack of finer\\ngeometry. This paper demonstrates that a mesh representation (i.e. vertices and\\nfaces to form polygonal surfaces) is able to capture fine-grained geometry for\\n3D reconstruction tasks. A mesh however is also unstructured data similar to\\npoint clouds. We address this problem by proposing a learning framework to\\ninfer the parameters of a compact mesh representation rather than learning from\\nthe mesh itself. This compact representation encodes a mesh using free-form\\ndeformation and a sparse linear combination of models allowing us to\\nreconstruct 3D meshes from single images. In contrast to prior work, we do not\\nrely on silhouettes and landmarks to perform 3D reconstruction. We evaluate our\\nmethod on synthetic and real-world datasets with very promising results. Our\\nframework efficiently reconstructs 3D objects in a low-dimensional way while\\npreserving its important geometrical aspects.\",\n          \"In this paper we present an OCR for Handwritten Devnagari Characters. Basic\\nsymbols are recognized by neural classifier. We have used four feature\\nextraction techniques namely, intersection, shadow feature, chain code\\nhistogram and straight line fitting features. Shadow features are computed\\nglobally for character image while intersection features, chain code histogram\\nfeatures and line fitting features are computed by dividing the character image\\ninto different segments. Weighted majority voting technique is used for\\ncombining the classification decision obtained from four Multi Layer\\nPerceptron(MLP) based classifier. On experimentation with a dataset of 4900\\nsamples the overall recognition rate observed is 92.80% as we considered top\\nfive choices results. This method is compared with other recent methods for\\nHandwritten Devnagari Character Recognition and it has been observed that this\\napproach has better success rate than other methods.\",\n          \"Changepoints are abrupt variations in the generative parameters of a data\\nsequence. Online detection of changepoints is useful in modelling and\\nprediction of time series in application areas such as finance, biometrics, and\\nrobotics. While frequentist methods have yielded online filtering and\\nprediction techniques, most Bayesian papers have focused on the retrospective\\nsegmentation problem. Here we examine the case where the model parameters\\nbefore and after the changepoint are independent and we derive an online\\nalgorithm for exact inference of the most recent changepoint. We compute the\\nprobability distribution of the length of the current ``run,'' or time since\\nthe last changepoint, using a simple message-passing algorithm. Our\\nimplementation is highly modular so that the algorithm may be applied to a\\nvariety of types of data. We illustrate this modularity by demonstrating the\\nalgorithm on three different real-world data sets.\"\n        ],\n        \"semantic_type\": \"\",\n        \"description\": \"\"\n      }\n    },\n    {\n      \"column\": \"tag\",\n      \"properties\": {\n        \"dtype\": \"string\",\n        \"num_unique_values\": 5,\n        \"samples\": [\n          \"[{'term': 'cs.CV', 'scheme': 'http://arxiv.org/schemas/atom', 'label': None}]\",\n          \"[{'term': 'cs.CV', 'scheme': 'http://arxiv.org/schemas/atom', 'label': None}, {'term': 'cs.AI', 'scheme': 'http://arxiv.org/schemas/atom', 'label': None}]\",\n          \"[{'term': 'stat.ML', 'scheme': 'http://arxiv.org/schemas/atom', 'label': None}]\"\n        ],\n        \"semantic_type\": \"\",\n        \"description\": \"\"\n      }\n    },\n    {\n      \"column\": \"title\",\n      \"properties\": {\n        \"dtype\": \"string\",\n        \"num_unique_values\": 5,\n        \"samples\": [\n          \"Image2Mesh: A Learning Framework for Single Image 3D Reconstruction\",\n          \"Combining Multiple Feature Extraction Techniques for Handwritten\\n  Devnagari Character Recognition\",\n          \"Bayesian Online Changepoint Detection\"\n        ],\n        \"semantic_type\": \"\",\n        \"description\": \"\"\n      }\n    },\n    {\n      \"column\": \"year\",\n      \"properties\": {\n        \"dtype\": \"number\",\n        \"std\": 4,\n        \"min\": 2007,\n        \"max\": 2018,\n        \"num_unique_values\": 5,\n        \"samples\": [\n          2017,\n          2010,\n          2007\n        ],\n        \"semantic_type\": \"\",\n        \"description\": \"\"\n      }\n    }\n  ]\n}"
            }
          },
          "metadata": {},
          "execution_count": 2
        }
      ],
      "source": [
        "# Alternative manual download link: https://yadi.sk/d/_nGyU2IajjR9-w\n",
        "!wget \"https://www.dropbox.com/s/99az9n1b57qkd9j/arxivData.json.tar.gz?dl=1\" -O arxivData.json.tar.gz\n",
        "!tar -xvzf arxivData.json.tar.gz\n",
        "data = pd.read_json(\"./arxivData.json\")\n",
        "data.sample(n=5)"
      ]
    },
    {
      "cell_type": "code",
      "execution_count": 3,
      "metadata": {
        "cellId": "lbyqb5rx7j8jpo591r06ak",
        "id": "poy9FYqwjzzz",
        "outputId": "8f563ba8-3667-43c5-fd3f-4496d6d9dbeb",
        "colab": {
          "base_uri": "https://localhost:8080/"
        }
      },
      "outputs": [
        {
          "output_type": "execute_result",
          "data": {
            "text/plain": [
              "['Differential Contrastive Divergence ; This paper has been retracted.',\n",
              " 'What Does Artificial Life Tell Us About Death? ; Short philosophical essay',\n",
              " 'P=NP ; We claim to resolve the P=?NP problem via a formal argument for P=NP.']"
            ]
          },
          "metadata": {},
          "execution_count": 3
        }
      ],
      "source": [
        "# assemble lines: concatenate title and description\n",
        "lines = data.apply(lambda row: row['title'] + ' ; ' + row['summary'].replace(\"\\n\", ' '), axis=1).tolist()\n",
        "\n",
        "sorted(lines, key=len)[:3]"
      ]
    },
    {
      "cell_type": "markdown",
      "metadata": {
        "cellId": "7u97m5s8ekl5zd5a43a1yc",
        "id": "1MiUh3QDjzz0"
      },
      "source": [
        "### Tokenization\n",
        "\n",
        "You know the dril. The data is messy. Go clean the data. Use WordPunctTokenizer or something.\n"
      ]
    },
    {
      "cell_type": "code",
      "execution_count": 4,
      "metadata": {
        "cellId": "u8rvfk719iek97t3rarwr",
        "id": "6n4GkOpVjzz1"
      },
      "outputs": [],
      "source": [
        "# Task: convert lines (in-place) into strings of space-separated tokens. Import & use WordPunctTokenizer\n",
        "from nltk.tokenize import WordPunctTokenizer\n",
        "\n",
        "tokenizer = WordPunctTokenizer()\n",
        "tokenize = lambda paper: ' '.join(tokenizer.tokenize(paper.lower()))\n",
        "\n",
        "lines = list(map(tokenize, lines))"
      ]
    },
    {
      "cell_type": "code",
      "execution_count": 5,
      "metadata": {
        "cellId": "w88nddpp2k8edoeyyyjh0l",
        "id": "dVmotH9tjzz2"
      },
      "outputs": [],
      "source": [
        "assert sorted(lines, key=len)[0] == \\\n",
        "    'differential contrastive divergence ; this paper has been retracted .'\n",
        "assert sorted(lines, key=len)[2] == \\\n",
        "    'p = np ; we claim to resolve the p =? np problem via a formal argument for p = np .'"
      ]
    },
    {
      "cell_type": "markdown",
      "metadata": {
        "cellId": "qb6h3hxmr095egzv8rlzul",
        "id": "FP44Xf1Ejzz3"
      },
      "source": [
        "### N-Gram Language Model (1point)\n",
        "\n",
        "A language model is a probabilistic model that estimates text probability: the joint probability of all tokens $w_t$ in text $X$: $P(X) = P(w_1, \\dots, w_T)$.\n",
        "\n",
        "It can do so by following the chain rule:\n",
        "$$P(w_1, \\dots, w_T) = P(w_1)P(w_2 \\mid w_1)\\dots P(w_T \\mid w_1, \\dots, w_{T-1}).$$\n",
        "\n",
        "The problem with such approach is that the final term $P(w_T \\mid w_1, \\dots, w_{T-1})$ depends on $n-1$ previous words. This probability is impractical to estimate for long texts, e.g. $T = 1000$.\n",
        "\n",
        "One popular approximation is to assume that next word only depends on a finite amount of previous words:\n",
        "\n",
        "$$P(w_t \\mid w_1, \\dots, w_{t - 1}) = P(w_t \\mid w_{t - n + 1}, \\dots, w_{t - 1})$$\n",
        "\n",
        "Such model is called __n-gram language model__ where n is a parameter. For example, in 3-gram language model, each word only depends on 2 previous words.\n",
        "\n",
        "$$\n",
        "    P(w_1, \\dots, w_n) = \\prod_t P(w_t \\mid w_{t - n + 1}, \\dots, w_{t - 1}).\n",
        "$$\n",
        "\n",
        "You can also sometimes see such approximation under the name of _n-th order markov assumption_."
      ]
    },
    {
      "cell_type": "markdown",
      "metadata": {
        "cellId": "u68wydbiioqlp5gl96mhd",
        "id": "Mw_XxqoBjzz5"
      },
      "source": [
        "The first stage to building such a model is counting all word occurences given N-1 previous words"
      ]
    },
    {
      "cell_type": "code",
      "execution_count": 6,
      "metadata": {
        "cellId": "og84gjipnumsakhiiu9ap",
        "id": "gE33_AXDjzz6"
      },
      "outputs": [],
      "source": [
        "from tqdm import tqdm\n",
        "from collections import defaultdict, Counter\n",
        "\n",
        "# special tokens:\n",
        "# - `UNK` represents absent tokens,\n",
        "# - `EOS` is a special token after the end of sequence\n",
        "\n",
        "UNK, EOS = \"_UNK_\", \"_EOS_\"\n",
        "\n",
        "\n",
        "# def shift(t: tuple, n: int = 1):\n",
        "#     \"\"\"\n",
        "#     Tuple (any iterable in fact) left circular shift\n",
        "#     \"\"\"\n",
        "#     return t[n:] + t[:n]\n",
        "\n",
        "\n",
        "def count_line_ngrams(counts: defaultdict, line: str, n: int) -> None:\n",
        "    \"\"\"\n",
        "    Same as count_ngrams but for a single line.\n",
        "    \"\"\"\n",
        "    context = (n - 1) * (UNK, )\n",
        "    for token in (line.split() + [EOS]):\n",
        "      counts[context][token] += 1\n",
        "      context = (context + (token,))[1:]\n",
        "\n",
        "\n",
        "def count_ngrams(lines, n):\n",
        "    \"\"\"\n",
        "    Count how many times each word occured after (n - 1) previous words\n",
        "    :param lines: an iterable of strings with space-separated tokens\n",
        "    :returns: a dictionary { tuple(prefix_tokens): {next_token_1: count_1, next_token_2: count_2}}\n",
        "\n",
        "    When building counts, please consider the following two edge cases:\n",
        "    - if prefix is shorter than (n - 1) tokens, it should be padded with UNK. For n=3,\n",
        "      empty prefix: \"\" -> (UNK, UNK)\n",
        "      short prefix: \"the\" -> (UNK, the)\n",
        "      long prefix: \"the new approach\" -> (new, approach)\n",
        "    - you should add a special token, EOS, at the end of each sequence\n",
        "      \"... with deep neural networks .\" -> (..., with, deep, neural, networks, ., EOS)\n",
        "      count the probability of this token just like all others.\n",
        "    \"\"\"\n",
        "    counts = defaultdict(Counter)\n",
        "    # counts[(word1, word2)][word3] = how many times word3 occured after (word1, word2)\n",
        "\n",
        "    for line in lines:\n",
        "      count_line_ngrams(counts, line, n)\n",
        "\n",
        "    return counts\n"
      ]
    },
    {
      "cell_type": "code",
      "execution_count": 7,
      "metadata": {
        "cellId": "xyf2he6lak9mmqarl3nck",
        "id": "QgodAclWjzz7"
      },
      "outputs": [],
      "source": [
        "# let's test it\n",
        "dummy_lines = sorted(lines, key=len)[:100]\n",
        "dummy_counts = count_ngrams(dummy_lines, n=3)\n",
        "assert set(map(len, dummy_counts.keys())) == {2}, \"please only count {n-1}-grams\"\n",
        "assert len(dummy_counts[('_UNK_', '_UNK_')]) == 78\n",
        "assert dummy_counts['_UNK_', 'a']['note'] == 3\n",
        "assert dummy_counts['p', '=']['np'] == 2\n",
        "assert dummy_counts['author', '.']['_EOS_'] == 1"
      ]
    },
    {
      "cell_type": "markdown",
      "metadata": {
        "cellId": "4j620npeqvj0k8ak8xqx8xk",
        "id": "5SaX_HH5jzz8"
      },
      "source": [
        "Once we can count N-grams, we can build a probabilistic language model.\n",
        "The simplest way to compute probabilities is in proporiton to counts:\n",
        "\n",
        "$$ P(w_t | prefix) = { Count(prefix, w_t) \\over \\sum_{\\hat w} Count(prefix, \\hat w) } $$"
      ]
    },
    {
      "cell_type": "code",
      "execution_count": 8,
      "metadata": {
        "cellId": "c7cm76wmzlaa12bctznzei",
        "id": "tsTfiPEOjzz8"
      },
      "outputs": [],
      "source": [
        "def counter_mul(cnt : Counter, multiplier : float):\n",
        "    \"\"\"\n",
        "    Counter defaultdict multiplication\n",
        "    \"\"\"\n",
        "    prod = Counter()\n",
        "    for key in cnt:\n",
        "        prod[key] = cnt[key] * multiplier\n",
        "    return prod\n",
        "\n",
        "\n",
        "def counter_div(divident : Counter, divisor : float):\n",
        "    \"\"\"\n",
        "    Counter defaultdict division\n",
        "    \"\"\"\n",
        "    assert divisor != 0\n",
        "    return counter_mul(divident, 1 / divisor)\n",
        "\n",
        "def counter_pow(cnt : Counter, exp : float):\n",
        "    \"\"\"\n",
        "    Counter defaultdict division\n",
        "    \"\"\"\n",
        "    pow = Counter()\n",
        "    for key in cnt:\n",
        "        pow[key] = cnt[key] ** exp\n",
        "    return pow\n",
        "\n",
        "\n",
        "class NGramLanguageModel:\n",
        "    \"\"\"\n",
        "    \"\"\"\n",
        "    def __init__(self, lines, n):\n",
        "        \"\"\"\n",
        "        Train a simple count-based language model:\n",
        "        compute probabilities P(w_t | prefix) given ngram counts\n",
        "\n",
        "        :param n: computes probability of next token given (n - 1) previous words\n",
        "        :param lines: an iterable of strings with space-separated tokens\n",
        "        \"\"\"\n",
        "        assert n >= 1\n",
        "        self.n = n\n",
        "\n",
        "        counts = count_ngrams(lines, self.n)\n",
        "\n",
        "        # compute token proabilities given counts\n",
        "        self.probs = defaultdict(Counter)\n",
        "        # probs[(word1, word2)][word3] = P(word3 | word1, word2)\n",
        "\n",
        "        # populate self.probs with actual probabilities\n",
        "        for context in counts.keys():\n",
        "            self.probs[context] = counter_div(counts[context], counts[context].total())\n",
        "\n",
        "\n",
        "    def get_possible_next_tokens(self, prefix):\n",
        "        \"\"\"\n",
        "        :param prefix: string with space-separated prefix tokens\n",
        "        :returns: a dictionary {token : it's probability} for all tokens with positive probabilities\n",
        "        \"\"\"\n",
        "        prefix = prefix.split()\n",
        "        prefix = prefix[max(0, len(prefix) - self.n + 1):]\n",
        "        prefix = [ UNK ] * (self.n - 1 - len(prefix)) + prefix\n",
        "        return self.probs[tuple(prefix)]\n",
        "\n",
        "    def get_next_token_prob(self, prefix, next_token):\n",
        "        \"\"\"\n",
        "        :param prefix: string with space-separated prefix tokens\n",
        "        :param next_token: the next token to predict probability for\n",
        "        :returns: P(next_token|prefix) a single number, 0 <= P <= 1\n",
        "        \"\"\"\n",
        "        return self.get_possible_next_tokens(prefix).get(next_token, 0)\n"
      ]
    },
    {
      "cell_type": "code",
      "source": [
        "given = Counter({\"a\" : 10, \"b\" : 5, \"c\" : 3})\n",
        "\n",
        "expected = Counter({\"a\" : 5, \"b\" : 2.5, \"c\" : 1.5})\n",
        "assert counter_div(given, 2) == expected\n",
        "assert counter_mul(expected, 2) == given\n",
        "\n",
        "expected = Counter({\"a\" : 100, \"b\" : 25, \"c\" : 9})\n",
        "assert counter_pow(given, 2.) == expected"
      ],
      "metadata": {
        "id": "hPAgozcb6mri"
      },
      "execution_count": 9,
      "outputs": []
    },
    {
      "cell_type": "markdown",
      "metadata": {
        "cellId": "0ftnn4nmuzrup6c0vvhb8q",
        "id": "E0o0m0nCjzz9"
      },
      "source": [
        "Let's test it!"
      ]
    },
    {
      "cell_type": "code",
      "execution_count": 10,
      "metadata": {
        "cellId": "a7zajcnvhqupvcrmacvkur",
        "id": "xhBxEuQMjzz-"
      },
      "outputs": [],
      "source": [
        "dummy_lm = NGramLanguageModel(dummy_lines, n=3)\n",
        "\n",
        "p_initial = dummy_lm.get_possible_next_tokens('') # '' -> ['_UNK_', '_UNK_']\n",
        "assert np.allclose(p_initial['learning'], 0.02)\n",
        "assert np.allclose(p_initial['a'], 0.13)\n",
        "assert np.allclose(p_initial.get('meow', 0), 0)\n",
        "assert np.allclose(sum(p_initial.values()), 1)\n",
        "\n",
        "p_a = dummy_lm.get_possible_next_tokens('a') # '' -> ['_UNK_', 'a']\n",
        "assert np.allclose(p_a['machine'], 0.15384615)\n",
        "assert np.allclose(p_a['note'], 0.23076923)\n",
        "assert np.allclose(p_a.get('the', 0), 0)\n",
        "assert np.allclose(sum(p_a.values()), 1)\n",
        "\n",
        "assert np.allclose(dummy_lm.get_possible_next_tokens('a note')['on'], 1)\n",
        "assert dummy_lm.get_possible_next_tokens('a machine') == \\\n",
        "    dummy_lm.get_possible_next_tokens(\"there have always been ghosts in a machine\"), \\\n",
        "    \"your 3-gram model should only depend on 2 previous words\""
      ]
    },
    {
      "cell_type": "markdown",
      "metadata": {
        "cellId": "oh8r9a41kuk4r51wra9",
        "id": "iiYABleRjzz_"
      },
      "source": [
        "Now that you've got a working n-gram language model, let's see what sequences it can generate. But first, let's train it on the whole dataset."
      ]
    },
    {
      "cell_type": "code",
      "execution_count": 11,
      "metadata": {
        "cellId": "f17xoejjppmooo2nopw4xo",
        "id": "naS-XLH5jzz_"
      },
      "outputs": [],
      "source": [
        "lm = NGramLanguageModel(lines, n=3)"
      ]
    },
    {
      "cell_type": "markdown",
      "metadata": {
        "cellId": "2kd9glwnkr470qc4bt7f1e",
        "id": "dVDWKAvcjz0A"
      },
      "source": [
        "The process of generating sequences is... well, it's sequential. You maintain a list of tokens and iteratively add next token by sampling with probabilities.\n",
        "\n",
        "$ X = [] $\n",
        "\n",
        "__forever:__\n",
        "* $w_{next} \\sim P(w_{next} | X)$\n",
        "* $X = concat(X, w_{next})$\n",
        "\n",
        "\n",
        "Instead of sampling with probabilities, one can also try always taking most likely token, sampling among top-K most likely tokens or sampling with temperature. In the latter case (temperature), one samples from\n",
        "\n",
        "$$w_{next} \\sim {P(w_{next} | X) ^ {1 / \\tau} \\over \\sum_{\\hat w} P(\\hat w | X) ^ {1 / \\tau}}$$\n",
        "\n",
        "Where $\\tau > 0$ is model temperature. If $\\tau << 1$, more likely tokens will be sampled with even higher probability while less likely tokens will vanish."
      ]
    },
    {
      "cell_type": "code",
      "source": [
        "def counter_normalize(cnt : Counter, p: float):\n",
        "    num = counter_pow(cnt, p)\n",
        "    denum = num.total()\n",
        "    return counter_div(num, denum)\n"
      ],
      "metadata": {
        "id": "cTqDR2hNAFMl"
      },
      "execution_count": 12,
      "outputs": []
    },
    {
      "cell_type": "code",
      "source": [
        "def counter_sample(probs : Counter):\n",
        "    assert abs(probs.total() - 1.) < 10e-6, f\"probs sum into {probs.total()}\"\n",
        "    items = np.array(list(probs.keys()))\n",
        "    probs = np.array(list(probs.values()))\n",
        "    return np.random.choice(items, p=probs)\n"
      ],
      "metadata": {
        "id": "CySlWJ2aCXmj"
      },
      "execution_count": 13,
      "outputs": []
    },
    {
      "cell_type": "code",
      "source": [
        "def counter_argmax(cnt : Counter):\n",
        "    argmax, max = None, float('-inf')\n",
        "    for key, value in cnt.items():\n",
        "        if value < max:\n",
        "            continue\n",
        "        argmax, max = key, value\n",
        "\n",
        "    return argmax\n"
      ],
      "metadata": {
        "id": "8Pfj5ABTExtc"
      },
      "execution_count": 14,
      "outputs": []
    },
    {
      "cell_type": "code",
      "execution_count": 15,
      "metadata": {
        "cellId": "sgbatlm9vzb4z889fho7",
        "id": "DoLYVUGcjz0A"
      },
      "outputs": [],
      "source": [
        "def get_next_token(lm: NGramLanguageModel, prefix: tuple, temperature: float=1.0):\n",
        "    \"\"\"\n",
        "    return next token after prefix;\n",
        "    :param temperature: samples proportionally to lm probabilities ^ (1 / temperature)\n",
        "        if temperature == 0, always takes most likely token. Break ties arbitrarily.\n",
        "    \"\"\"\n",
        "    next_token_prob = lm.get_possible_next_tokens(prefix)\n",
        "    if temperature == 0.:\n",
        "        return counter_argmax(next_token_prob)\n",
        "    else:\n",
        "        sample_probs = counter_normalize(next_token_prob, 1 / temperature)\n",
        "        return counter_sample(sample_probs)\n"
      ]
    },
    {
      "cell_type": "code",
      "execution_count": 16,
      "metadata": {
        "cellId": "98l40131wjtd5xbdm5b2nr",
        "id": "6mZibZYGjz0B",
        "colab": {
          "base_uri": "https://localhost:8080/"
        },
        "outputId": "558b0fea-22ad-4b1e-e7bd-383c8de14f37"
      },
      "outputs": [
        {
          "output_type": "stream",
          "name": "stdout",
          "text": [
            "Looks nice!\n"
          ]
        }
      ],
      "source": [
        "from collections import Counter\n",
        "test_freqs = Counter([get_next_token(lm, 'there have') for _ in range(10000)])\n",
        "assert 250 < test_freqs['not'] < 450\n",
        "assert 8500 < test_freqs['been'] < 9500\n",
        "assert 1 < test_freqs['lately'] < 200\n",
        "\n",
        "test_freqs = Counter([get_next_token(lm, 'deep', temperature=1.0) for _ in range(10000)])\n",
        "assert 1500 < test_freqs['learning'] < 3000\n",
        "test_freqs = Counter([get_next_token(lm, 'deep', temperature=0.5) for _ in range(10000)])\n",
        "assert 8000 < test_freqs['learning'] < 9000\n",
        "test_freqs = Counter([get_next_token(lm, 'deep', temperature=0.0) for _ in range(10000)])\n",
        "assert test_freqs['learning'] == 10000\n",
        "\n",
        "print(\"Looks nice!\")"
      ]
    },
    {
      "cell_type": "markdown",
      "metadata": {
        "cellId": "ux4n8iq523n4s3ftrelhxj",
        "id": "nNO29XcSjz0B"
      },
      "source": [
        "Let's have fun with this model"
      ]
    },
    {
      "cell_type": "code",
      "execution_count": 17,
      "metadata": {
        "cellId": "1nnnycga61rijt6nd8zai",
        "id": "hZkD06Sajz0C",
        "colab": {
          "base_uri": "https://localhost:8080/"
        },
        "outputId": "cd19996e-67e9-410f-ef5c-e5b954aaa5c0"
      },
      "outputs": [
        {
          "output_type": "stream",
          "name": "stdout",
          "text": [
            "machine learning framework has been recent research treats it as a function over the last decade , we establish locally q - learning algorithms . our result is a function that involves 481 patients . _EOS_\n"
          ]
        }
      ],
      "source": [
        "prefix = 'machine' # <- your ideas :)\n",
        "\n",
        "for i in range(100):\n",
        "    prefix += ' ' + get_next_token(lm, prefix)\n",
        "    if prefix.endswith(EOS) or len(lm.get_possible_next_tokens(prefix)) == 0:\n",
        "        break\n",
        "\n",
        "print(prefix)"
      ]
    },
    {
      "cell_type": "code",
      "execution_count": 18,
      "metadata": {
        "cellId": "pxyjsv3b7r8thdfxlgitl",
        "id": "oAum2jjDjz0C",
        "colab": {
          "base_uri": "https://localhost:8080/"
        },
        "outputId": "a96dfd61-1745-48eb-86c2-49cccdaedb4b"
      },
      "outputs": [
        {
          "output_type": "stream",
          "name": "stdout",
          "text": [
            "bridging the gap between the two - stream convnets , which is a distributed algorithm , that is , the proposed system offers the capability of the proposed approach , we introduce a new model , and the results of the language . in this paper , we introduce a new approach for solving this problem , we show that , the proposed method , a new method for the first time , and that the proposed method is significantly faster than the other hand , the proposed method is proposed to solve this problem , we propose a new approach for\n"
          ]
        }
      ],
      "source": [
        "prefix = 'bridging the' # <- more of your ideas\n",
        "\n",
        "for i in range(100):\n",
        "    prefix += ' ' + get_next_token(lm, prefix, temperature=0.5)\n",
        "    if prefix.endswith(EOS) or len(lm.get_possible_next_tokens(prefix)) == 0:\n",
        "        break\n",
        "\n",
        "print(prefix)"
      ]
    },
    {
      "cell_type": "markdown",
      "metadata": {
        "cellId": "2n90bscmzfko0qnctp7ysc",
        "id": "xdIqIac_jz0D"
      },
      "source": [
        "__More in the homework:__ nucleus sampling, top-k sampling, beam search(not for the faint of heart)."
      ]
    },
    {
      "cell_type": "markdown",
      "metadata": {
        "cellId": "3gdmey7g8at5n5c5x4gayh",
        "id": "04rTqNuujz0D"
      },
      "source": [
        "### Evaluating language models: perplexity (1point)\n",
        "\n",
        "Perplexity is a measure of how well your model approximates the true probability distribution behind the data. __Smaller perplexity = better model__.\n",
        "\n",
        "To compute perplexity on one sentence, use:\n",
        "$$\n",
        "    {\\mathbb{P}}(w_1 \\dots w_N) = P(w_1, \\dots, w_N)^{-\\frac1N} = \\left( \\prod_t P(w_t \\mid w_{t - n}, \\dots, w_{t - 1})\\right)^{-\\frac1N},\n",
        "$$\n",
        "\n",
        "\n",
        "On the corpora level, perplexity is a product of probabilities of all tokens in all sentences to the power of $1/N$, where $N$ is __total length (in tokens) of all sentences__ in corpora.\n",
        "\n",
        "This number can quickly get too small for float32/float64 precision, so we recommend you to first compute log-perplexity (from log-probabilities) and then take the exponent."
      ]
    },
    {
      "cell_type": "code",
      "source": [
        "def num_tokens(lines : list[str]) -> int:\n",
        "    \"\"\"\n",
        "    Counts num of tokens EOS included.\n",
        "    \"\"\"\n",
        "    return len(' '.join(lines).split()) + len(lines)\n"
      ],
      "metadata": {
        "id": "omIzzvKRUy_Z"
      },
      "execution_count": 19,
      "outputs": []
    },
    {
      "cell_type": "code",
      "source": [
        "def lm_log_prob(lm: NGramLanguageModel, line: str, min_logprob: float) -> float:\n",
        "    prefix, log_prob = \"\", 0.\n",
        "\n",
        "    for tok in (line.split() + [EOS]):\n",
        "        if lm.get_next_token_prob(prefix, tok) == 0:\n",
        "            log_prob += min_logprob\n",
        "        else:\n",
        "            log_prob += np.log(lm.get_next_token_prob(prefix, tok))\n",
        "        prefix = ' '.join([prefix, tok])\n",
        "\n",
        "    return log_prob\n"
      ],
      "metadata": {
        "id": "W4Bs8g6OU-3e"
      },
      "execution_count": 20,
      "outputs": []
    },
    {
      "cell_type": "code",
      "execution_count": 21,
      "metadata": {
        "cellId": "5hp010xyzzb4vqewo1bhny",
        "id": "-QCX454Ojz0E"
      },
      "outputs": [],
      "source": [
        "def perplexity(lm: NGramLanguageModel, lines: list[str], min_logprob: float = np.log(10 ** -50.)):\n",
        "    \"\"\"\n",
        "    :param lines: a list of strings with space-separated tokens\n",
        "    :param min_logprob: if log(P(w | ...)) is smaller than min_logprop, set it equal to min_logrob\n",
        "    :returns: corpora-level perplexity - a single scalar number from the formula above\n",
        "\n",
        "    Note: do not forget to compute P(w_first | empty) and P(eos | full_sequence)\n",
        "\n",
        "    PLEASE USE lm.get_next_token_prob and NOT lm.get_possible_next_tokens\n",
        "    \"\"\"\n",
        "    this_lm_log_prob = lambda line: lm_log_prob(lm, line, min_logprob)\n",
        "    log_prob = sum(map(this_lm_log_prob, lines))\n",
        "\n",
        "    return np.exp((-1 / num_tokens(lines)) * log_prob)\n"
      ]
    },
    {
      "cell_type": "code",
      "execution_count": 22,
      "metadata": {
        "cellId": "8b689bobhkey04x7pabupj",
        "id": "NGNUoWgrjz0E",
        "colab": {
          "base_uri": "https://localhost:8080/"
        },
        "outputId": "cf86aa3d-cffa-4703-9b21-b5490b54883a"
      },
      "outputs": [
        {
          "output_type": "stream",
          "name": "stdout",
          "text": [
            "Perplexities: ppx1=318.213 ppx3=1.520 ppx10=1.184\n"
          ]
        }
      ],
      "source": [
        "lm1 = NGramLanguageModel(dummy_lines, n=1)\n",
        "lm3 = NGramLanguageModel(dummy_lines, n=3)\n",
        "lm10 = NGramLanguageModel(dummy_lines, n=10)\n",
        "\n",
        "ppx1 = perplexity(lm1, dummy_lines)\n",
        "ppx3 = perplexity(lm3, dummy_lines)\n",
        "ppx10 = perplexity(lm10, dummy_lines)\n",
        "ppx_missing = perplexity(lm3, ['the jabberwock , with eyes of flame , '])  # thanks, L. Carrol\n",
        "\n",
        "print(\"Perplexities: ppx1=%.3f ppx3=%.3f ppx10=%.3f\" % (ppx1, ppx3, ppx10))\n",
        "\n",
        "assert all(0 < ppx < 500 for ppx in (ppx1, ppx3, ppx10)), \"perplexity should be non-negative and reasonably small\"\n",
        "assert ppx1 > ppx3 > ppx10, \"higher N models should overfit and \"\n",
        "assert np.isfinite(ppx_missing) and ppx_missing > 10 ** 6, \"missing words should have large but finite perplexity. \" \\\n",
        "    \" Make sure you use min_logprob right\"\n",
        "assert np.allclose([ppx1, ppx3, ppx10], (318.2132342216302, 1.5199996213739575, 1.1838145037901249))"
      ]
    },
    {
      "cell_type": "markdown",
      "metadata": {
        "cellId": "ypc4lks4vs1li908fqi8",
        "id": "10raoskgjz0F"
      },
      "source": [
        "Now let's measure the actual perplexity: we'll split the data into train and test and score model on test data only."
      ]
    },
    {
      "cell_type": "code",
      "execution_count": 23,
      "metadata": {
        "cellId": "tjnehsem2lmijkg2lto4w",
        "id": "xFGUtSbtjz0F",
        "colab": {
          "base_uri": "https://localhost:8080/"
        },
        "outputId": "25cb9e0e-ed51-41df-d293-584926e44087"
      },
      "outputs": [
        {
          "output_type": "stream",
          "name": "stdout",
          "text": [
            "N = 1, Perplexity = 1832.23136\n",
            "N = 2, Perplexity = 85653987.28543\n",
            "N = 3, Perplexity = 61999196239911532363776.00000\n"
          ]
        }
      ],
      "source": [
        "from sklearn.model_selection import train_test_split\n",
        "train_lines, test_lines = train_test_split(lines, test_size=0.25, random_state=42)\n",
        "\n",
        "for n in (1, 2, 3):\n",
        "    lm = NGramLanguageModel(n=n, lines=train_lines)\n",
        "    ppx = perplexity(lm, test_lines)\n",
        "    print(\"N = %i, Perplexity = %.5f\" % (n, ppx))\n"
      ]
    },
    {
      "cell_type": "code",
      "execution_count": 24,
      "metadata": {
        "cellId": "38nfbfkpzgfxik8kccyt1l",
        "id": "Hep-qU-Bjz0G"
      },
      "outputs": [],
      "source": [
        "# whoops, it just blew up :)"
      ]
    },
    {
      "cell_type": "markdown",
      "metadata": {
        "cellId": "oopn2o57wxm9vbxzycytce",
        "id": "ZZ3O8M63jz0G"
      },
      "source": [
        "### LM Smoothing\n",
        "\n",
        "The problem with our simple language model is that whenever it encounters an n-gram it has never seen before, it assigns it with the probabilitiy of 0. Every time this happens, perplexity explodes.\n",
        "\n",
        "To battle this issue, there's a technique called __smoothing__. The core idea is to modify counts in a way that prevents probabilities from getting too low. The simplest algorithm here is Additive smoothing (aka [Lapace smoothing](https://en.wikipedia.org/wiki/Additive_smoothing)):\n",
        "\n",
        "$$ P(w_t | prefix) = { Count(prefix, w_t) + \\delta \\over \\sum_{\\hat w} (Count(prefix, \\hat w) + \\delta) } $$\n",
        "\n",
        "If counts for a given prefix are low, additive smoothing will adjust probabilities to a more uniform distribution. Not that the summation in the denominator goes over _all words in the vocabulary_.\n",
        "\n",
        "Here's an example code we've implemented for you:"
      ]
    },
    {
      "cell_type": "code",
      "execution_count": 25,
      "metadata": {
        "cellId": "ioh26rlov6g8l2ssj1c8pm",
        "id": "Wk1Btq7pjz0H"
      },
      "outputs": [],
      "source": [
        "class LaplaceLanguageModel(NGramLanguageModel):\n",
        "    \"\"\" this code is an example, no need to change anything \"\"\"\n",
        "    def __init__(self, lines, n, delta=1.0):\n",
        "        self.n = n\n",
        "        counts = count_ngrams(lines, self.n)\n",
        "        self.vocab = set(token for token_counts in counts.values() for token in token_counts)\n",
        "        self.probs = defaultdict(Counter)\n",
        "\n",
        "        for prefix in counts:\n",
        "            token_counts = counts[prefix]\n",
        "            total_count = sum(token_counts.values()) + delta * len(self.vocab)\n",
        "            self.probs[prefix] = {token: (token_counts[token] + delta) / total_count\n",
        "                                          for token in token_counts}\n",
        "    def get_possible_next_tokens(self, prefix):\n",
        "        token_probs = super().get_possible_next_tokens(prefix)\n",
        "        missing_prob_total = 1.0 - sum(token_probs.values())\n",
        "        missing_prob = missing_prob_total / max(1, len(self.vocab) - len(token_probs))\n",
        "        return {token: token_probs.get(token, missing_prob) for token in self.vocab}\n",
        "\n",
        "    def get_next_token_prob(self, prefix, next_token):\n",
        "        token_probs = super().get_possible_next_tokens(prefix)\n",
        "        if next_token in token_probs:\n",
        "            return token_probs[next_token]\n",
        "        else:\n",
        "            missing_prob_total = 1.0 - sum(token_probs.values())\n",
        "            missing_prob_total = max(0, missing_prob_total) # prevent rounding errors\n",
        "            return missing_prob_total / max(1, len(self.vocab) - len(token_probs))\n"
      ]
    },
    {
      "cell_type": "markdown",
      "metadata": {
        "cellId": "90vsann3920ie05r2blbmi",
        "execution_id": "3868303d-0bb9-42c6-a9a8-dcf485c8220c",
        "id": "9WcN8kh3jz0H"
      },
      "source": [
        "**Disclaimer**: the implementation above assumes all words unknown within a given context to be equally likely, *as well as the words outside of vocabulary*. Therefore, its' perplexity will be lower than it should when encountering such words. Therefore, comparing it with a model with fewer unknown words will not be fair. When implementing your own smoothing, you may handle this by adding a virtual `UNK` token of non-zero probability. Technically, this will result in a model where probabilities do not add up to $1$, but it is close enough for a practice excercise."
      ]
    },
    {
      "cell_type": "code",
      "execution_count": 26,
      "metadata": {
        "cellId": "3xvxkdxcmfqucruyt66mdc",
        "id": "VqS-Ethujz0H"
      },
      "outputs": [],
      "source": [
        "#test that it's a valid probability model\n",
        "for n in (1, 2, 3):\n",
        "    dummy_lm = LaplaceLanguageModel(dummy_lines, n=n)\n",
        "    assert np.allclose(sum([dummy_lm.get_next_token_prob('a', w_i) for w_i in dummy_lm.vocab]), 1), \"I told you not to break anything! :)\""
      ]
    },
    {
      "cell_type": "code",
      "execution_count": 27,
      "metadata": {
        "cellId": "j6zqa50koitjjri9ipd8ec",
        "id": "FDNr2ViJjz0I",
        "colab": {
          "base_uri": "https://localhost:8080/"
        },
        "outputId": "8de32c9d-cd9c-4337-d1c7-38979a82cc1c"
      },
      "outputs": [
        {
          "output_type": "stream",
          "name": "stdout",
          "text": [
            "N = 1, Perplexity = 977.67559\n",
            "N = 2, Perplexity = 470.48021\n",
            "N = 3, Perplexity = 3679.44765\n"
          ]
        }
      ],
      "source": [
        "for n in (1, 2, 3):\n",
        "    lm = LaplaceLanguageModel(train_lines, n=n, delta=0.1)\n",
        "    ppx = perplexity(lm, test_lines)\n",
        "    print(\"N = %i, Perplexity = %.5f\" % (n, ppx))"
      ]
    },
    {
      "cell_type": "code",
      "execution_count": 28,
      "metadata": {
        "cellId": "pjuqt30jcerwbz1ym9zv1",
        "id": "3ZwSMxsjjz0I"
      },
      "outputs": [],
      "source": [
        "# optional: try to sample tokens from such a model"
      ]
    },
    {
      "cell_type": "markdown",
      "metadata": {
        "cellId": "3b8s1y9uls4fosu3yp28gg",
        "id": "-1Wl2Sptjz0I"
      },
      "source": [
        "### Kneser-Ney smoothing (2 points)\n",
        "\n",
        "Additive smoothing is simple, reasonably good but definitely not a State of The Art algorithm.\n",
        "\n",
        "\n",
        "Your final task in this notebook is to implement [Kneser-Ney](https://en.wikipedia.org/wiki/Kneser%E2%80%93Ney_smoothing) smoothing.\n",
        "\n",
        "It can be computed recurrently, for n>1:\n",
        "\n",
        "$$P_{kn}(w_t | prefix_{n-1}) = { \\max(0, Count(prefix_{n-1}, w_t) - \\delta) \\over \\sum_{\\hat w} Count(prefix_{n-1}, \\hat w)} + \\lambda_{prefix_{n-1}} \\cdot P_{kn}(w_t | prefix_{n-2})$$\n",
        "\n",
        "where\n",
        "- $prefix_{n-1}$ is a tuple of {n-1} previous tokens\n",
        "- $lambda_{prefix_{n-1}}$ is a normalization constant chosen so that probabilities add up to 1\n",
        "- Unigram $P_{kn}(w_t | prefix_{n-2})$ corresponds to Kneser Ney smoothing for {N-1}-gram language model.\n",
        "- Unigram $P_{kn}(w_t)$ is a special case: how likely it is to see x_t in an unfamiliar context\n",
        "\n",
        "See lecture slides or wiki for more detailed formulae.\n",
        "\n",
        "__Your task__ is to\n",
        "- implement `KneserNeyLanguageModel` class,\n",
        "- test it on 1-3 gram language models\n",
        "- find optimal (within reason) smoothing delta for 3-gram language model with Kneser-Ney smoothing"
      ]
    },
    {
      "cell_type": "code",
      "source": [
        "from tqdm import tqdm\n",
        "\n",
        "class KneserNeyLanguageModel(NGramLanguageModel):\n",
        "    \"\"\" A template for Kneser-Ney language model. Default delta may be suboptimal. \"\"\"\n",
        "    def __init__(self, lines: list[str], n: int, delta: float = 1.0):\n",
        "        super().__init__(lines, n)\n",
        "        self.delta = delta\n",
        "        self.vocab = set(word for line in lines for word in line.split()) | {EOS}\n",
        "        self.ordered_probs = self.calculate_probs(lines)\n",
        "\n",
        "    def calculate_probs(self, lines: list[str]) -> dict:\n",
        "        reverse_counts = defaultdict(int)\n",
        "        total_pairs = 0\n",
        "\n",
        "        # First order\n",
        "        counts = count_ngrams(lines, 2)\n",
        "        for prefix, local_counter in tqdm(counts.items(), leave=False, desc=\"Calculate first order\", mininterval=0.5):\n",
        "            for token in local_counter:\n",
        "                reverse_counts[token] += 1\n",
        "                total_pairs += 1\n",
        "\n",
        "        ordered_probs = {1: {token: count / total_pairs for token, count in reverse_counts.items()}}\n",
        "        ordered_probs[1][UNK] = self.delta / len(self.vocab)\n",
        "\n",
        "        # Higher order\n",
        "        for order in tqdm(range(2, self.n + 1), leave=False, desc=\"Calculate order\", mininterval=0.5):\n",
        "            ordered_probs[order] = {}\n",
        "            counts = count_ngrams(lines, order)\n",
        "\n",
        "            for prefix, local_counter in tqdm(counts.items(), leave=False, desc=\"Currently for prefix\", mininterval=0.5):\n",
        "                dict_for_prefix = defaultdict(int)\n",
        "                local_sum = sum(local_counter.values())\n",
        "                lambd = self.delta * len(local_counter) / local_sum\n",
        "\n",
        "                for token in self.vocab:\n",
        "                    count = local_counter[token] if token in local_counter else 0\n",
        "                    dict_for_prefix[token] = max(0, count - self.delta) / local_sum\n",
        "\n",
        "                    if order == 2:\n",
        "                        dict_for_prefix[token] += lambd * ordered_probs[order - 1][token]\n",
        "                    else:\n",
        "                        dict_for_prefix[token] += lambd * ordered_probs[order - 1][prefix[1:]][token]\n",
        "\n",
        "                ordered_probs[order][prefix] = dict_for_prefix\n",
        "\n",
        "        return ordered_probs\n",
        "\n",
        "    def get_possible_next_tokens(self, prefix: str) -> Counter:\n",
        "        if self.n == 1:\n",
        "            return self.ordered_probs[1]\n",
        "        prefix_tokens = [tok if tok in self.vocab else UNK for tok in prefix.split()]\n",
        "        prefix_tokens = prefix_tokens[max(0, len(prefix_tokens) - self.n + 1):]\n",
        "        prefix_tokens = [UNK] * (self.n - 1 - len(prefix_tokens)) + prefix_tokens\n",
        "        return self.probs[tuple(prefix_tokens)]\n",
        "\n",
        "    def get_next_token_prob(self, prefix: str, next_token: str) -> float:\n",
        "        if next_token not in self.vocab:\n",
        "            next_token = UNK\n",
        "        return self.get_possible_next_tokens(prefix)[next_token]\n"
      ],
      "metadata": {
        "id": "b7_tPFIA23kq"
      },
      "execution_count": 29,
      "outputs": []
    },
    {
      "cell_type": "code",
      "execution_count": 30,
      "metadata": {
        "cellId": "lsk91832qbmdt7x1q0a8z4",
        "id": "MjPJ3AUHjz0J",
        "colab": {
          "base_uri": "https://localhost:8080/"
        },
        "outputId": "89b78de3-8e0a-4b8d-b4ba-c799d5c8823d"
      },
      "outputs": [
        {
          "output_type": "stream",
          "name": "stderr",
          "text": [
            "Calculate order:   0%|          | 0/1 [00:00<?, ?it/s]\n",
            "Currently for prefix:   0%|          | 0/946 [00:00<?, ?it/s]\u001b[A\n",
            "Currently for prefix:  80%|███████▉  | 753/946 [00:00<00:00, 1504.38it/s]\u001b[A\n",
            "Calculate order:   0%|          | 0/2 [00:00<?, ?it/s]\n",
            "Currently for prefix:   0%|          | 0/946 [00:00<?, ?it/s]\u001b[A\n",
            "Currently for prefix:  77%|███████▋  | 730/946 [00:00<00:00, 1442.13it/s]\u001b[A\n",
            "Calculate order:  50%|█████     | 1/2 [00:00<00:00,  1.47it/s]\n",
            "Currently for prefix:   0%|          | 0/2086 [00:00<?, ?it/s]\u001b[A\n",
            "Currently for prefix:  29%|██▉       | 611/2086 [00:00<00:01, 1220.66it/s]\u001b[A\n",
            "Currently for prefix:  59%|█████▊    | 1222/2086 [00:01<00:00, 1206.47it/s]\u001b[A\n",
            "Currently for prefix:  88%|████████▊ | 1826/2086 [00:01<00:00, 1183.69it/s]\u001b[A\n"
          ]
        }
      ],
      "source": [
        "#test that it's a valid probability model\n",
        "for n in (1, 2, 3):\n",
        "    dummy_lm = KneserNeyLanguageModel(dummy_lines, n=n)\n",
        "    assert np.allclose(sum([dummy_lm.get_next_token_prob('a', w_i) for w_i in dummy_lm.vocab]), 1), \"I told you not to break anything! :)\""
      ]
    },
    {
      "cell_type": "code",
      "execution_count": null,
      "metadata": {
        "cellId": "pp3jtkk9annp1qkou58x1b",
        "id": "Isn0t9J5jz0J",
        "colab": {
          "base_uri": "https://localhost:8080/"
        },
        "outputId": "c140a93f-ec21-431c-ad26-d33d79ec8424"
      },
      "outputs": [
        {
          "output_type": "stream",
          "name": "stderr",
          "text": []
        },
        {
          "output_type": "stream",
          "name": "stdout",
          "text": [
            "N = 1, Perplexity = 1367.70568\n"
          ]
        },
        {
          "output_type": "stream",
          "name": "stderr",
          "text": [
            "Calculate order:   0%|          | 0/1 [00:00<?, ?it/s]\n",
            "Currently for prefix:   0%|          | 0/54176 [00:00<?, ?it/s]\u001b[A\n",
            "Currently for prefix:   0%|          | 7/54176 [00:00<1:07:20, 13.41it/s]\u001b[A\n",
            "Currently for prefix:   0%|          | 14/54176 [00:01<1:07:20, 13.40it/s]\u001b[A\n",
            "Currently for prefix:   0%|          | 21/54176 [00:01<1:07:51, 13.30it/s]\u001b[A\n",
            "Currently for prefix:   0%|          | 28/54176 [00:02<1:07:30, 13.37it/s]\u001b[A\n",
            "Currently for prefix:   0%|          | 35/54176 [00:02<1:08:37, 13.15it/s]\u001b[A\n",
            "Currently for prefix:   0%|          | 42/54176 [00:03<1:08:12, 13.23it/s]\u001b[A\n",
            "Currently for prefix:   0%|          | 49/54176 [00:03<1:07:45, 13.31it/s]\u001b[A\n",
            "Currently for prefix:   0%|          | 56/54176 [00:04<1:07:28, 13.37it/s]\u001b[A\n",
            "Currently for prefix:   0%|          | 63/54176 [00:04<1:06:58, 13.47it/s]\u001b[A\n",
            "Currently for prefix:   0%|          | 70/54176 [00:05<1:06:45, 13.51it/s]\u001b[A\n",
            "Currently for prefix:   0%|          | 77/54176 [00:05<1:07:05, 13.44it/s]\u001b[A\n",
            "Currently for prefix:   0%|          | 84/54176 [00:06<1:06:38, 13.53it/s]\u001b[A\n",
            "Currently for prefix:   0%|          | 91/54176 [00:06<1:06:52, 13.48it/s]\u001b[A\n",
            "Currently for prefix:   0%|          | 98/54176 [00:07<1:06:25, 13.57it/s]\u001b[A\n",
            "Currently for prefix:   0%|          | 105/54176 [00:07<1:06:21, 13.58it/s]\u001b[A\n",
            "Currently for prefix:   0%|          | 112/54176 [00:08<1:05:46, 13.70it/s]\u001b[A\n",
            "Currently for prefix:   0%|          | 119/54176 [00:08<1:12:11, 12.48it/s]\u001b[A\n",
            "Currently for prefix:   0%|          | 126/54176 [00:09<1:21:46, 11.02it/s]\u001b[A\n",
            "Currently for prefix:   0%|          | 132/54176 [00:10<1:28:15, 10.21it/s]\u001b[A\n",
            "Currently for prefix:   0%|          | 138/54176 [00:11<1:32:38,  9.72it/s]\u001b[A\n",
            "Currently for prefix:   0%|          | 144/54176 [00:11<1:36:56,  9.29it/s]\u001b[A\n",
            "Currently for prefix:   0%|          | 150/54176 [00:12<1:32:56,  9.69it/s]\u001b[A\n",
            "Currently for prefix:   0%|          | 157/54176 [00:12<1:24:35, 10.64it/s]\u001b[A\n",
            "Currently for prefix:   0%|          | 164/54176 [00:13<1:18:47, 11.43it/s]\u001b[A\n",
            "Currently for prefix:   0%|          | 171/54176 [00:14<1:16:41, 11.74it/s]\u001b[A\n",
            "Currently for prefix:   0%|          | 178/54176 [00:14<1:14:55, 12.01it/s]\u001b[A\n",
            "Currently for prefix:   0%|          | 185/54176 [00:15<1:13:53, 12.18it/s]\u001b[A\n",
            "Currently for prefix:   0%|          | 192/54176 [00:15<1:13:48, 12.19it/s]\u001b[A\n",
            "Currently for prefix:   0%|          | 199/54176 [00:16<1:13:31, 12.24it/s]\u001b[A\n",
            "Currently for prefix:   0%|          | 206/54176 [00:16<1:13:46, 12.19it/s]\u001b[A\n",
            "Currently for prefix:   0%|          | 213/54176 [00:17<1:12:50, 12.35it/s]\u001b[A\n",
            "Currently for prefix:   0%|          | 220/54176 [00:17<1:12:08, 12.46it/s]\u001b[A\n",
            "Currently for prefix:   0%|          | 227/54176 [00:18<1:11:43, 12.54it/s]\u001b[A\n",
            "Currently for prefix:   0%|          | 234/54176 [00:19<1:11:54, 12.50it/s]\u001b[A\n",
            "Currently for prefix:   0%|          | 241/54176 [00:19<1:11:30, 12.57it/s]\u001b[A\n",
            "Currently for prefix:   0%|          | 248/54176 [00:20<1:12:01, 12.48it/s]\u001b[A\n",
            "Currently for prefix:   0%|          | 255/54176 [00:20<1:11:45, 12.52it/s]\u001b[A\n",
            "Currently for prefix:   0%|          | 262/54176 [00:21<1:11:24, 12.58it/s]\u001b[A\n",
            "Currently for prefix:   0%|          | 269/54176 [00:21<1:11:12, 12.62it/s]\u001b[A\n",
            "Currently for prefix:   1%|          | 276/54176 [00:22<1:15:19, 11.93it/s]\u001b[A\n",
            "Currently for prefix:   1%|          | 283/54176 [00:23<1:24:54, 10.58it/s]\u001b[A\n",
            "Currently for prefix:   1%|          | 289/54176 [00:24<1:31:44,  9.79it/s]\u001b[A\n",
            "Currently for prefix:   1%|          | 295/54176 [00:24<1:36:36,  9.30it/s]\u001b[A\n",
            "Currently for prefix:   1%|          | 300/54176 [00:25<1:41:18,  8.86it/s]\u001b[A\n",
            "Currently for prefix:   1%|          | 305/54176 [00:26<1:41:39,  8.83it/s]\u001b[A\n",
            "Currently for prefix:   1%|          | 312/54176 [00:26<1:30:11,  9.95it/s]\u001b[A\n",
            "Currently for prefix:   1%|          | 319/54176 [00:27<1:24:17, 10.65it/s]\u001b[A\n",
            "Currently for prefix:   1%|          | 326/54176 [00:27<1:19:51, 11.24it/s]\u001b[A\n",
            "Currently for prefix:   1%|          | 333/54176 [00:28<1:17:46, 11.54it/s]\u001b[A\n",
            "Currently for prefix:   1%|          | 340/54176 [00:28<1:15:44, 11.85it/s]\u001b[A\n",
            "Currently for prefix:   1%|          | 347/54176 [00:29<1:15:07, 11.94it/s]\u001b[A\n",
            "Currently for prefix:   1%|          | 354/54176 [00:29<1:13:30, 12.20it/s]\u001b[A\n",
            "Currently for prefix:   1%|          | 361/54176 [00:30<1:13:09, 12.26it/s]\u001b[A\n",
            "Currently for prefix:   1%|          | 368/54176 [00:31<1:12:01, 12.45it/s]\u001b[A\n",
            "Currently for prefix:   1%|          | 375/54176 [00:31<1:11:32, 12.53it/s]\u001b[A\n",
            "Currently for prefix:   1%|          | 382/54176 [00:32<1:11:16, 12.58it/s]\u001b[A\n",
            "Currently for prefix:   1%|          | 389/54176 [00:32<1:10:53, 12.65it/s]\u001b[A\n",
            "Currently for prefix:   1%|          | 396/54176 [00:33<1:11:33, 12.52it/s]\u001b[A\n",
            "Currently for prefix:   1%|          | 403/54176 [00:33<1:10:24, 12.73it/s]\u001b[A\n",
            "Currently for prefix:   1%|          | 410/54176 [00:34<1:11:02, 12.61it/s]\u001b[A\n",
            "Currently for prefix:   1%|          | 417/54176 [00:34<1:10:36, 12.69it/s]\u001b[A\n",
            "Currently for prefix:   1%|          | 424/54176 [00:35<1:10:32, 12.70it/s]\u001b[A\n",
            "Currently for prefix:   1%|          | 431/54176 [00:36<1:12:37, 12.33it/s]\u001b[A\n",
            "Currently for prefix:   1%|          | 438/54176 [00:36<1:22:47, 10.82it/s]\u001b[A\n",
            "Currently for prefix:   1%|          | 444/54176 [00:37<1:30:00,  9.95it/s]\u001b[A\n",
            "Currently for prefix:   1%|          | 450/54176 [00:38<1:34:42,  9.45it/s]\u001b[A\n",
            "Currently for prefix:   1%|          | 455/54176 [00:38<1:38:55,  9.05it/s]\u001b[A\n",
            "Currently for prefix:   1%|          | 460/54176 [00:39<1:38:25,  9.10it/s]\u001b[A\n",
            "Currently for prefix:   1%|          | 467/54176 [00:40<1:29:34,  9.99it/s]\u001b[A\n",
            "Currently for prefix:   1%|          | 474/54176 [00:40<1:23:32, 10.71it/s]\u001b[A\n",
            "Currently for prefix:   1%|          | 481/54176 [00:41<1:19:02, 11.32it/s]\u001b[A\n",
            "Currently for prefix:   1%|          | 488/54176 [00:41<1:17:08, 11.60it/s]\u001b[A\n",
            "Currently for prefix:   1%|          | 495/54176 [00:42<1:15:19, 11.88it/s]\u001b[A\n",
            "Currently for prefix:   1%|          | 502/54176 [00:42<1:14:34, 12.00it/s]\u001b[A\n",
            "Currently for prefix:   1%|          | 509/54176 [00:43<1:13:59, 12.09it/s]\u001b[A\n",
            "Currently for prefix:   1%|          | 516/54176 [00:44<1:13:49, 12.11it/s]\u001b[A\n",
            "Currently for prefix:   1%|          | 523/54176 [00:44<1:12:47, 12.29it/s]\u001b[A\n",
            "Currently for prefix:   1%|          | 530/54176 [00:45<1:12:28, 12.34it/s]\u001b[A\n",
            "Currently for prefix:   1%|          | 537/54176 [00:45<1:13:21, 12.19it/s]\u001b[A\n",
            "Currently for prefix:   1%|          | 544/54176 [00:46<1:12:41, 12.30it/s]\u001b[A\n",
            "Currently for prefix:   1%|          | 551/54176 [00:46<1:12:58, 12.25it/s]\u001b[A\n",
            "Currently for prefix:   1%|          | 558/54176 [00:47<1:12:46, 12.28it/s]\u001b[A\n",
            "Currently for prefix:   1%|          | 565/54176 [00:48<1:13:29, 12.16it/s]\u001b[A\n",
            "Currently for prefix:   1%|          | 572/54176 [00:48<1:13:39, 12.13it/s]\u001b[A\n",
            "Currently for prefix:   1%|          | 579/54176 [00:49<1:13:30, 12.15it/s]\u001b[A\n",
            "Currently for prefix:   1%|          | 586/54176 [00:50<1:39:23,  8.99it/s]\u001b[A\n",
            "Currently for prefix:   1%|          | 592/54176 [00:51<1:41:36,  8.79it/s]\u001b[A\n",
            "Currently for prefix:   1%|          | 597/54176 [00:51<1:44:01,  8.58it/s]\u001b[A\n",
            "Currently for prefix:   1%|          | 602/54176 [00:52<1:48:39,  8.22it/s]\u001b[A\n",
            "Currently for prefix:   1%|          | 608/54176 [00:53<1:40:07,  8.92it/s]\u001b[A\n",
            "Currently for prefix:   1%|          | 615/54176 [00:53<1:30:13,  9.89it/s]\u001b[A\n",
            "Currently for prefix:   1%|          | 622/54176 [00:54<1:24:08, 10.61it/s]\u001b[A\n",
            "Currently for prefix:   1%|          | 629/54176 [00:54<1:18:51, 11.32it/s]\u001b[A\n",
            "Currently for prefix:   1%|          | 636/54176 [00:55<1:16:21, 11.69it/s]\u001b[A\n",
            "Currently for prefix:   1%|          | 643/54176 [00:55<1:14:36, 11.96it/s]\u001b[A\n",
            "Currently for prefix:   1%|          | 650/54176 [00:56<1:13:24, 12.15it/s]\u001b[A\n",
            "Currently for prefix:   1%|          | 657/54176 [00:56<1:12:22, 12.32it/s]\u001b[A\n",
            "Currently for prefix:   1%|          | 664/54176 [00:57<1:11:56, 12.40it/s]\u001b[A\n",
            "Currently for prefix:   1%|          | 671/54176 [00:57<1:11:22, 12.49it/s]\u001b[A\n",
            "Currently for prefix:   1%|▏         | 678/54176 [00:58<1:11:51, 12.41it/s]\u001b[A\n",
            "Currently for prefix:   1%|▏         | 685/54176 [00:59<1:11:51, 12.41it/s]\u001b[A\n",
            "Currently for prefix:   1%|▏         | 692/54176 [00:59<1:10:32, 12.64it/s]\u001b[A\n",
            "Currently for prefix:   1%|▏         | 699/54176 [01:00<1:10:44, 12.60it/s]\u001b[A\n",
            "Currently for prefix:   1%|▏         | 706/54176 [01:00<1:10:24, 12.66it/s]\u001b[A\n",
            "Currently for prefix:   1%|▏         | 713/54176 [01:01<1:10:19, 12.67it/s]\u001b[A\n",
            "Currently for prefix:   1%|▏         | 720/54176 [01:01<1:10:17, 12.68it/s]\u001b[A\n",
            "Currently for prefix:   1%|▏         | 727/54176 [01:02<1:18:13, 11.39it/s]\u001b[A\n",
            "Currently for prefix:   1%|▏         | 733/54176 [01:03<1:26:47, 10.26it/s]\u001b[A\n",
            "Currently for prefix:   1%|▏         | 739/54176 [01:04<1:32:12,  9.66it/s]\u001b[A\n",
            "Currently for prefix:   1%|▏         | 744/54176 [01:04<1:35:16,  9.35it/s]\u001b[A\n",
            "Currently for prefix:   1%|▏         | 749/54176 [01:05<1:38:41,  9.02it/s]\u001b[A\n",
            "Currently for prefix:   1%|▏         | 754/54176 [01:05<1:42:30,  8.69it/s]\u001b[A\n",
            "Currently for prefix:   1%|▏         | 759/54176 [01:06<1:40:23,  8.87it/s]\u001b[A\n",
            "Currently for prefix:   1%|▏         | 766/54176 [01:06<1:28:31, 10.06it/s]\u001b[A\n",
            "Currently for prefix:   1%|▏         | 773/54176 [01:07<1:22:42, 10.76it/s]\u001b[A\n",
            "Currently for prefix:   1%|▏         | 780/54176 [01:08<1:18:10, 11.38it/s]\u001b[A\n",
            "Currently for prefix:   1%|▏         | 786/54176 [01:08<1:24:29, 10.53it/s]\u001b[A\n",
            "Currently for prefix:   1%|▏         | 792/54176 [01:09<1:29:36,  9.93it/s]\u001b[A\n",
            "Currently for prefix:   1%|▏         | 798/54176 [01:10<1:34:13,  9.44it/s]\u001b[A\n",
            "Currently for prefix:   1%|▏         | 803/54176 [01:10<1:38:07,  9.07it/s]\u001b[A\n",
            "Currently for prefix:   1%|▏         | 808/54176 [01:11<1:41:42,  8.75it/s]\u001b[A\n",
            "Currently for prefix:   2%|▏         | 814/54176 [01:11<1:36:20,  9.23it/s]\u001b[A\n",
            "Currently for prefix:   2%|▏         | 821/54176 [01:12<1:26:12, 10.31it/s]\u001b[A\n",
            "Currently for prefix:   2%|▏         | 828/54176 [01:13<1:21:26, 10.92it/s]\u001b[A\n",
            "Currently for prefix:   2%|▏         | 835/54176 [01:13<1:17:22, 11.49it/s]\u001b[A\n",
            "Currently for prefix:   2%|▏         | 841/54176 [01:14<1:16:46, 11.58it/s]\u001b[A\n",
            "Currently for prefix:   2%|▏         | 848/54176 [01:14<1:13:49, 12.04it/s]\u001b[A\n",
            "Currently for prefix:   2%|▏         | 855/54176 [01:15<1:12:30, 12.26it/s]\u001b[A\n",
            "Currently for prefix:   2%|▏         | 862/54176 [01:15<1:10:53, 12.53it/s]\u001b[A\n",
            "Currently for prefix:   2%|▏         | 869/54176 [01:16<1:10:54, 12.53it/s]\u001b[A\n",
            "Currently for prefix:   2%|▏         | 876/54176 [01:17<1:22:24, 10.78it/s]\u001b[A\n",
            "Currently for prefix:   2%|▏         | 882/54176 [01:17<1:28:53,  9.99it/s]\u001b[A\n",
            "Currently for prefix:   2%|▏         | 888/54176 [01:18<1:34:36,  9.39it/s]\u001b[A\n",
            "Currently for prefix:   2%|▏         | 893/54176 [01:19<1:39:01,  8.97it/s]\u001b[A\n",
            "Currently for prefix:   2%|▏         | 898/54176 [01:19<1:37:13,  9.13it/s]\u001b[A\n",
            "Currently for prefix:   2%|▏         | 905/54176 [01:20<1:27:49, 10.11it/s]\u001b[A\n",
            "Currently for prefix:   2%|▏         | 912/54176 [01:20<1:21:41, 10.87it/s]\u001b[A\n",
            "Currently for prefix:   2%|▏         | 919/54176 [01:21<1:17:55, 11.39it/s]\u001b[A\n",
            "Currently for prefix:   2%|▏         | 926/54176 [01:21<1:15:34, 11.74it/s]\u001b[A\n",
            "Currently for prefix:   2%|▏         | 933/54176 [01:22<1:13:30, 12.07it/s]\u001b[A\n",
            "Currently for prefix:   2%|▏         | 940/54176 [01:23<1:13:14, 12.11it/s]\u001b[A\n",
            "Currently for prefix:   2%|▏         | 947/54176 [01:23<1:12:35, 12.22it/s]\u001b[A\n",
            "Currently for prefix:   2%|▏         | 954/54176 [01:24<1:12:34, 12.22it/s]\u001b[A\n",
            "Currently for prefix:   2%|▏         | 961/54176 [01:24<1:11:12, 12.46it/s]\u001b[A\n",
            "Currently for prefix:   2%|▏         | 968/54176 [01:25<1:11:06, 12.47it/s]\u001b[A\n",
            "Currently for prefix:   2%|▏         | 975/54176 [01:25<1:10:16, 12.62it/s]\u001b[A\n",
            "Currently for prefix:   2%|▏         | 982/54176 [01:26<1:10:07, 12.64it/s]\u001b[A\n",
            "Currently for prefix:   2%|▏         | 989/54176 [01:26<1:09:08, 12.82it/s]\u001b[A\n",
            "Currently for prefix:   2%|▏         | 996/54176 [01:27<1:09:46, 12.70it/s]\u001b[A\n",
            "Currently for prefix:   2%|▏         | 1003/54176 [01:28<1:17:36, 11.42it/s]\u001b[A\n",
            "Currently for prefix:   2%|▏         | 1010/54176 [01:28<1:15:04, 11.80it/s]\u001b[A\n",
            "Currently for prefix:   2%|▏         | 1017/54176 [01:29<1:14:03, 11.96it/s]\u001b[A\n",
            "Currently for prefix:   2%|▏         | 1024/54176 [01:30<1:20:26, 11.01it/s]\u001b[A\n",
            "Currently for prefix:   2%|▏         | 1030/54176 [01:30<1:27:50, 10.08it/s]\u001b[A\n",
            "Currently for prefix:   2%|▏         | 1036/54176 [01:31<1:33:55,  9.43it/s]\u001b[A\n",
            "Currently for prefix:   2%|▏         | 1041/54176 [01:32<1:37:14,  9.11it/s]\u001b[A\n",
            "Currently for prefix:   2%|▏         | 1046/54176 [01:32<1:40:57,  8.77it/s]\u001b[A\n",
            "Currently for prefix:   2%|▏         | 1051/54176 [01:33<1:41:48,  8.70it/s]\u001b[A\n",
            "Currently for prefix:   2%|▏         | 1058/54176 [01:33<1:30:27,  9.79it/s]\u001b[A\n",
            "Currently for prefix:   2%|▏         | 1065/54176 [01:34<1:23:52, 10.55it/s]\u001b[A\n",
            "Currently for prefix:   2%|▏         | 1072/54176 [01:35<1:19:08, 11.18it/s]\u001b[A\n",
            "Currently for prefix:   2%|▏         | 1079/54176 [01:35<1:16:58, 11.50it/s]\u001b[A\n",
            "Currently for prefix:   2%|▏         | 1086/54176 [01:36<1:15:34, 11.71it/s]\u001b[A\n",
            "Currently for prefix:   2%|▏         | 1093/54176 [01:36<1:14:27, 11.88it/s]\u001b[A\n",
            "Currently for prefix:   2%|▏         | 1100/54176 [01:37<1:13:29, 12.04it/s]\u001b[A\n",
            "Currently for prefix:   2%|▏         | 1107/54176 [01:37<1:12:57, 12.12it/s]\u001b[A\n",
            "Currently for prefix:   2%|▏         | 1114/54176 [01:38<1:12:30, 12.20it/s]\u001b[A\n",
            "Currently for prefix:   2%|▏         | 1121/54176 [01:39<1:12:13, 12.24it/s]\u001b[A\n",
            "Currently for prefix:   2%|▏         | 1128/54176 [01:39<1:12:01, 12.27it/s]\u001b[A\n",
            "Currently for prefix:   2%|▏         | 1135/54176 [01:40<1:11:30, 12.36it/s]\u001b[A\n",
            "Currently for prefix:   2%|▏         | 1142/54176 [01:40<1:10:58, 12.45it/s]\u001b[A\n",
            "Currently for prefix:   2%|▏         | 1149/54176 [01:41<1:10:56, 12.46it/s]\u001b[A\n",
            "Currently for prefix:   2%|▏         | 1156/54176 [01:41<1:11:34, 12.34it/s]\u001b[A\n",
            "Currently for prefix:   2%|▏         | 1163/54176 [01:42<1:10:34, 12.52it/s]\u001b[A\n",
            "Currently for prefix:   2%|▏         | 1170/54176 [01:42<1:10:05, 12.60it/s]\u001b[A\n",
            "Currently for prefix:   2%|▏         | 1177/54176 [01:43<1:14:31, 11.85it/s]\u001b[A\n",
            "Currently for prefix:   2%|▏         | 1183/54176 [01:44<1:23:34, 10.57it/s]\u001b[A\n",
            "Currently for prefix:   2%|▏         | 1189/54176 [01:45<1:29:04,  9.91it/s]\u001b[A\n",
            "Currently for prefix:   2%|▏         | 1195/54176 [01:45<1:34:50,  9.31it/s]\u001b[A\n",
            "Currently for prefix:   2%|▏         | 1200/54176 [01:46<1:39:02,  8.91it/s]\u001b[A\n",
            "Currently for prefix:   2%|▏         | 1206/54176 [01:46<1:32:52,  9.51it/s]\u001b[A\n",
            "Currently for prefix:   2%|▏         | 1213/54176 [01:47<1:24:32, 10.44it/s]\u001b[A\n",
            "Currently for prefix:   2%|▏         | 1220/54176 [01:48<1:20:03, 11.02it/s]\u001b[A\n",
            "Currently for prefix:   2%|▏         | 1227/54176 [01:48<1:15:58, 11.62it/s]\u001b[A\n",
            "Currently for prefix:   2%|▏         | 1234/54176 [01:49<1:14:46, 11.80it/s]\u001b[A\n",
            "Currently for prefix:   2%|▏         | 1240/54176 [01:50<1:28:21,  9.98it/s]\u001b[A\n",
            "Currently for prefix:   2%|▏         | 1247/54176 [01:50<1:21:48, 10.78it/s]\u001b[A\n",
            "Currently for prefix:   2%|▏         | 1254/54176 [01:51<1:18:05, 11.29it/s]\u001b[A\n",
            "Currently for prefix:   2%|▏         | 1261/54176 [01:51<1:14:33, 11.83it/s]\u001b[A\n",
            "Currently for prefix:   2%|▏         | 1268/54176 [01:52<1:13:23, 12.01it/s]\u001b[A\n",
            "Currently for prefix:   2%|▏         | 1275/54176 [01:52<1:11:08, 12.39it/s]\u001b[A\n",
            "Currently for prefix:   2%|▏         | 1282/54176 [01:53<1:10:26, 12.51it/s]\u001b[A\n",
            "Currently for prefix:   2%|▏         | 1289/54176 [01:53<1:08:50, 12.80it/s]\u001b[A\n",
            "Currently for prefix:   2%|▏         | 1296/54176 [01:54<1:08:36, 12.85it/s]\u001b[A\n",
            "Currently for prefix:   2%|▏         | 1303/54176 [01:54<1:07:52, 12.98it/s]\u001b[A\n",
            "Currently for prefix:   2%|▏         | 1310/54176 [01:55<1:07:31, 13.05it/s]\u001b[A\n",
            "Currently for prefix:   2%|▏         | 1317/54176 [01:55<1:07:22, 13.08it/s]\u001b[A\n",
            "Currently for prefix:   2%|▏         | 1324/54176 [01:56<1:07:27, 13.06it/s]\u001b[A\n",
            "Currently for prefix:   2%|▏         | 1331/54176 [01:57<1:14:56, 11.75it/s]\u001b[A\n",
            "Currently for prefix:   2%|▏         | 1338/54176 [01:57<1:22:04, 10.73it/s]\u001b[A\n",
            "Currently for prefix:   2%|▏         | 1344/54176 [01:58<1:28:49,  9.91it/s]\u001b[A\n",
            "Currently for prefix:   2%|▏         | 1350/54176 [01:59<1:34:21,  9.33it/s]\u001b[A\n",
            "Currently for prefix:   3%|▎         | 1355/54176 [02:00<1:35:46,  9.19it/s]\u001b[A\n",
            "Currently for prefix:   3%|▎         | 1362/54176 [02:00<1:26:33, 10.17it/s]\u001b[A\n",
            "Currently for prefix:   3%|▎         | 1369/54176 [02:01<1:20:51, 10.89it/s]\u001b[A\n",
            "Currently for prefix:   3%|▎         | 1376/54176 [02:01<1:16:35, 11.49it/s]\u001b[A\n",
            "Currently for prefix:   3%|▎         | 1383/54176 [02:02<1:13:29, 11.97it/s]\u001b[A\n",
            "Currently for prefix:   3%|▎         | 1390/54176 [02:02<1:11:59, 12.22it/s]\u001b[A\n",
            "Currently for prefix:   3%|▎         | 1397/54176 [02:03<1:10:09, 12.54it/s]\u001b[A\n",
            "Currently for prefix:   3%|▎         | 1404/54176 [02:03<1:09:03, 12.74it/s]\u001b[A\n",
            "Currently for prefix:   3%|▎         | 1411/54176 [02:04<1:08:55, 12.76it/s]\u001b[A\n",
            "Currently for prefix:   3%|▎         | 1418/54176 [02:04<1:08:21, 12.86it/s]\u001b[A\n",
            "Currently for prefix:   3%|▎         | 1425/54176 [02:05<1:07:20, 13.06it/s]\u001b[A\n",
            "Currently for prefix:   3%|▎         | 1432/54176 [02:05<1:07:22, 13.05it/s]\u001b[A\n",
            "Currently for prefix:   3%|▎         | 1439/54176 [02:06<1:07:06, 13.10it/s]\u001b[A\n",
            "Currently for prefix:   3%|▎         | 1446/54176 [02:06<1:07:18, 13.06it/s]\u001b[A\n",
            "Currently for prefix:   3%|▎         | 1453/54176 [02:07<1:06:26, 13.23it/s]\u001b[A\n",
            "Currently for prefix:   3%|▎         | 1460/54176 [02:08<1:06:38, 13.18it/s]\u001b[A\n",
            "Currently for prefix:   3%|▎         | 1467/54176 [02:08<1:07:09, 13.08it/s]\u001b[A\n",
            "Currently for prefix:   3%|▎         | 1474/54176 [02:09<1:07:01, 13.11it/s]\u001b[A\n",
            "Currently for prefix:   3%|▎         | 1481/54176 [02:09<1:06:50, 13.14it/s]\u001b[A\n",
            "Currently for prefix:   3%|▎         | 1488/54176 [02:10<1:11:53, 12.21it/s]\u001b[A\n",
            "Currently for prefix:   3%|▎         | 1495/54176 [02:11<1:21:24, 10.79it/s]\u001b[A\n",
            "Currently for prefix:   3%|▎         | 1501/54176 [02:11<1:27:53,  9.99it/s]\u001b[A\n",
            "Currently for prefix:   3%|▎         | 1507/54176 [02:12<1:32:01,  9.54it/s]\u001b[A\n",
            "Currently for prefix:   3%|▎         | 1512/54176 [02:13<1:36:49,  9.07it/s]\u001b[A\n",
            "Currently for prefix:   3%|▎         | 1519/54176 [02:13<1:27:46, 10.00it/s]\u001b[A\n",
            "Currently for prefix:   3%|▎         | 1526/54176 [02:14<1:21:40, 10.74it/s]\u001b[A\n",
            "Currently for prefix:   3%|▎         | 1533/54176 [02:14<1:17:14, 11.36it/s]\u001b[A\n",
            "Currently for prefix:   3%|▎         | 1540/54176 [02:15<1:13:39, 11.91it/s]\u001b[A\n",
            "Currently for prefix:   3%|▎         | 1547/54176 [02:15<1:11:55, 12.20it/s]\u001b[A\n",
            "Currently for prefix:   3%|▎         | 1554/54176 [02:16<1:10:05, 12.51it/s]\u001b[A\n",
            "Currently for prefix:   3%|▎         | 1561/54176 [02:16<1:09:30, 12.62it/s]\u001b[A\n",
            "Currently for prefix:   3%|▎         | 1568/54176 [02:17<1:09:02, 12.70it/s]\u001b[A\n",
            "Currently for prefix:   3%|▎         | 1575/54176 [02:18<1:08:45, 12.75it/s]\u001b[A\n",
            "Currently for prefix:   3%|▎         | 1582/54176 [02:18<1:08:33, 12.78it/s]\u001b[A\n",
            "Currently for prefix:   3%|▎         | 1589/54176 [02:19<1:09:13, 12.66it/s]\u001b[A\n",
            "Currently for prefix:   3%|▎         | 1596/54176 [02:19<1:08:22, 12.82it/s]\u001b[A\n",
            "Currently for prefix:   3%|▎         | 1603/54176 [02:20<1:08:34, 12.78it/s]\u001b[A\n",
            "Currently for prefix:   3%|▎         | 1610/54176 [02:20<1:07:23, 13.00it/s]\u001b[A\n",
            "Currently for prefix:   3%|▎         | 1617/54176 [02:21<1:07:42, 12.94it/s]\u001b[A\n",
            "Currently for prefix:   3%|▎         | 1624/54176 [02:21<1:07:26, 12.99it/s]\u001b[A\n",
            "Currently for prefix:   3%|▎         | 1631/54176 [02:22<1:07:27, 12.98it/s]\u001b[A\n",
            "Currently for prefix:   3%|▎         | 1638/54176 [02:22<1:07:32, 12.96it/s]\u001b[A\n",
            "Currently for prefix:   3%|▎         | 1645/54176 [02:23<1:12:32, 12.07it/s]\u001b[A\n",
            "Currently for prefix:   3%|▎         | 1652/54176 [02:24<1:22:43, 10.58it/s]\u001b[A\n",
            "Currently for prefix:   3%|▎         | 1658/54176 [02:25<1:28:54,  9.84it/s]\u001b[A\n",
            "Currently for prefix:   3%|▎         | 1664/54176 [02:25<1:33:24,  9.37it/s]\u001b[A\n",
            "Currently for prefix:   3%|▎         | 1669/54176 [02:26<1:37:53,  8.94it/s]\u001b[A\n",
            "Currently for prefix:   3%|▎         | 1674/54176 [02:27<1:35:40,  9.15it/s]\u001b[A\n",
            "Currently for prefix:   3%|▎         | 1681/54176 [02:27<1:26:33, 10.11it/s]\u001b[A\n",
            "Currently for prefix:   3%|▎         | 1688/54176 [02:28<1:20:50, 10.82it/s]\u001b[A\n",
            "Currently for prefix:   3%|▎         | 1695/54176 [02:28<1:17:44, 11.25it/s]\u001b[A\n",
            "Currently for prefix:   3%|▎         | 1702/54176 [02:29<1:15:33, 11.57it/s]\u001b[A\n",
            "Currently for prefix:   3%|▎         | 1709/54176 [02:29<1:13:35, 11.88it/s]\u001b[A\n",
            "Currently for prefix:   3%|▎         | 1716/54176 [02:30<1:12:27, 12.07it/s]\u001b[A\n",
            "Currently for prefix:   3%|▎         | 1723/54176 [02:30<1:10:54, 12.33it/s]\u001b[A\n",
            "Currently for prefix:   3%|▎         | 1730/54176 [02:31<1:10:37, 12.38it/s]\u001b[A\n",
            "Currently for prefix:   3%|▎         | 1737/54176 [02:32<1:10:59, 12.31it/s]\u001b[A\n",
            "Currently for prefix:   3%|▎         | 1744/54176 [02:32<1:20:16, 10.89it/s]\u001b[A\n",
            "Currently for prefix:   3%|▎         | 1750/54176 [02:34<1:42:32,  8.52it/s]\u001b[A\n",
            "Currently for prefix:   3%|▎         | 1755/54176 [02:34<1:48:09,  8.08it/s]\u001b[A\n",
            "Currently for prefix:   3%|▎         | 1760/54176 [02:35<1:54:08,  7.65it/s]\u001b[A\n",
            "Currently for prefix:   3%|▎         | 1765/54176 [02:36<2:11:39,  6.64it/s]\u001b[A\n",
            "Currently for prefix:   3%|▎         | 1770/54176 [02:37<2:03:20,  7.08it/s]\u001b[A\n",
            "Currently for prefix:   3%|▎         | 1775/54176 [02:37<1:57:36,  7.43it/s]\u001b[A\n",
            "Currently for prefix:   3%|▎         | 1780/54176 [02:38<1:54:21,  7.64it/s]\u001b[A\n",
            "Currently for prefix:   3%|▎         | 1784/54176 [02:38<1:53:57,  7.66it/s]\u001b[A\n",
            "Currently for prefix:   3%|▎         | 1789/54176 [02:39<1:52:05,  7.79it/s]\u001b[A\n",
            "Currently for prefix:   3%|▎         | 1793/54176 [02:39<1:54:04,  7.65it/s]\u001b[A\n",
            "Currently for prefix:   3%|▎         | 1800/54176 [02:40<1:35:57,  9.10it/s]\u001b[A\n",
            "Currently for prefix:   3%|▎         | 1807/54176 [02:41<1:26:27, 10.10it/s]\u001b[A\n",
            "Currently for prefix:   3%|▎         | 1814/54176 [02:41<1:20:21, 10.86it/s]\u001b[A\n",
            "Currently for prefix:   3%|▎         | 1820/54176 [02:42<1:18:27, 11.12it/s]\u001b[A\n",
            "Currently for prefix:   3%|▎         | 1827/54176 [02:42<1:14:41, 11.68it/s]\u001b[A\n",
            "Currently for prefix:   3%|▎         | 1834/54176 [02:43<1:12:56, 11.96it/s]\u001b[A\n",
            "Currently for prefix:   3%|▎         | 1841/54176 [02:43<1:12:10, 12.08it/s]\u001b[A\n",
            "Currently for prefix:   3%|▎         | 1848/54176 [02:44<1:12:31, 12.03it/s]\u001b[A\n",
            "Currently for prefix:   3%|▎         | 1855/54176 [02:44<1:11:47, 12.15it/s]\u001b[A\n",
            "Currently for prefix:   3%|▎         | 1862/54176 [02:45<1:11:43, 12.15it/s]\u001b[A\n",
            "Currently for prefix:   3%|▎         | 1869/54176 [02:46<1:11:19, 12.22it/s]\u001b[A\n",
            "Currently for prefix:   3%|▎         | 1876/54176 [02:46<1:10:25, 12.38it/s]\u001b[A\n",
            "Currently for prefix:   3%|▎         | 1883/54176 [02:47<1:10:26, 12.37it/s]\u001b[A\n",
            "Currently for prefix:   3%|▎         | 1890/54176 [02:47<1:09:28, 12.54it/s]\u001b[A\n",
            "Currently for prefix:   4%|▎         | 1897/54176 [02:48<1:09:56, 12.46it/s]\u001b[A\n",
            "Currently for prefix:   4%|▎         | 1904/54176 [02:49<1:26:32, 10.07it/s]\u001b[A\n",
            "Currently for prefix:   4%|▎         | 1911/54176 [02:49<1:21:23, 10.70it/s]\u001b[A\n",
            "Currently for prefix:   4%|▎         | 1917/54176 [02:50<1:24:37, 10.29it/s]\u001b[A\n",
            "Currently for prefix:   4%|▎         | 1923/54176 [02:51<1:31:16,  9.54it/s]\u001b[A\n",
            "Currently for prefix:   4%|▎         | 1928/54176 [02:51<1:34:19,  9.23it/s]\u001b[A\n",
            "Currently for prefix:   4%|▎         | 1933/54176 [02:52<1:39:08,  8.78it/s]\u001b[A\n",
            "Currently for prefix:   4%|▎         | 1938/54176 [02:53<1:42:40,  8.48it/s]\u001b[A\n",
            "Currently for prefix:   4%|▎         | 1945/54176 [02:53<1:30:40,  9.60it/s]\u001b[A\n",
            "Currently for prefix:   4%|▎         | 1952/54176 [02:54<1:23:36, 10.41it/s]\u001b[A\n",
            "Currently for prefix:   4%|▎         | 1959/54176 [02:54<1:18:37, 11.07it/s]\u001b[A\n",
            "Currently for prefix:   4%|▎         | 1966/54176 [02:55<1:14:51, 11.62it/s]\u001b[A\n",
            "Currently for prefix:   4%|▎         | 1973/54176 [02:55<1:13:09, 11.89it/s]\u001b[A\n",
            "Currently for prefix:   4%|▎         | 1980/54176 [02:56<1:12:48, 11.95it/s]\u001b[A\n",
            "Currently for prefix:   4%|▎         | 1987/54176 [02:57<1:11:41, 12.13it/s]\u001b[A\n",
            "Currently for prefix:   4%|▎         | 1994/54176 [02:57<1:11:25, 12.18it/s]\u001b[A\n",
            "Currently for prefix:   4%|▎         | 2001/54176 [02:58<1:10:56, 12.26it/s]\u001b[A\n",
            "Currently for prefix:   4%|▎         | 2008/54176 [02:58<1:11:14, 12.20it/s]\u001b[A\n",
            "Currently for prefix:   4%|▎         | 2015/54176 [02:59<1:11:07, 12.22it/s]\u001b[A\n",
            "Currently for prefix:   4%|▎         | 2022/54176 [02:59<1:10:51, 12.27it/s]\u001b[A\n",
            "Currently for prefix:   4%|▎         | 2029/54176 [03:00<1:10:35, 12.31it/s]\u001b[A\n",
            "Currently for prefix:   4%|▍         | 2036/54176 [03:01<1:10:27, 12.33it/s]\u001b[A\n",
            "Currently for prefix:   4%|▍         | 2043/54176 [03:01<1:10:00, 12.41it/s]\u001b[A\n",
            "Currently for prefix:   4%|▍         | 2050/54176 [03:02<1:15:29, 11.51it/s]\u001b[A\n",
            "Currently for prefix:   4%|▍         | 2056/54176 [03:02<1:22:18, 10.55it/s]\u001b[A\n",
            "Currently for prefix:   4%|▍         | 2062/54176 [03:03<1:31:03,  9.54it/s]\u001b[A\n",
            "Currently for prefix:   4%|▍         | 2067/54176 [03:04<1:39:25,  8.73it/s]\u001b[A\n",
            "Currently for prefix:   4%|▍         | 2072/54176 [03:05<1:48:07,  8.03it/s]\u001b[A\n",
            "Currently for prefix:   4%|▍         | 2077/54176 [03:06<1:56:14,  7.47it/s]\u001b[A\n",
            "Currently for prefix:   4%|▍         | 2081/54176 [03:06<2:00:38,  7.20it/s]\u001b[A\n",
            "Currently for prefix:   4%|▍         | 2085/54176 [03:07<1:57:37,  7.38it/s]\u001b[A\n",
            "Currently for prefix:   4%|▍         | 2090/54176 [03:07<1:53:19,  7.66it/s]\u001b[A\n",
            "Currently for prefix:   4%|▍         | 2094/54176 [03:08<1:52:15,  7.73it/s]\u001b[A\n",
            "Currently for prefix:   4%|▍         | 2101/54176 [03:08<1:33:47,  9.25it/s]\u001b[A\n",
            "Currently for prefix:   4%|▍         | 2108/54176 [03:09<1:24:24, 10.28it/s]\u001b[A\n",
            "Currently for prefix:   4%|▍         | 2115/54176 [03:09<1:17:38, 11.18it/s]\u001b[A\n",
            "Currently for prefix:   4%|▍         | 2122/54176 [03:10<1:14:08, 11.70it/s]\u001b[A\n",
            "Currently for prefix:   4%|▍         | 2129/54176 [03:10<1:11:20, 12.16it/s]\u001b[A\n",
            "Currently for prefix:   4%|▍         | 2136/54176 [03:11<1:09:15, 12.52it/s]\u001b[A\n",
            "Currently for prefix:   4%|▍         | 2143/54176 [03:11<1:08:26, 12.67it/s]\u001b[A\n",
            "Currently for prefix:   4%|▍         | 2150/54176 [03:12<1:08:29, 12.66it/s]\u001b[A\n",
            "Currently for prefix:   4%|▍         | 2157/54176 [03:13<1:08:02, 12.74it/s]\u001b[A\n",
            "Currently for prefix:   4%|▍         | 2164/54176 [03:13<1:07:59, 12.75it/s]\u001b[A\n",
            "Currently for prefix:   4%|▍         | 2171/54176 [03:14<1:08:42, 12.62it/s]\u001b[A\n",
            "Currently for prefix:   4%|▍         | 2178/54176 [03:14<1:07:24, 12.86it/s]\u001b[A\n",
            "Currently for prefix:   4%|▍         | 2185/54176 [03:15<1:07:06, 12.91it/s]\u001b[A\n",
            "Currently for prefix:   4%|▍         | 2192/54176 [03:15<1:05:53, 13.15it/s]\u001b[A\n",
            "Currently for prefix:   4%|▍         | 2199/54176 [03:16<1:06:11, 13.09it/s]\u001b[A\n",
            "Currently for prefix:   4%|▍         | 2206/54176 [03:16<1:05:19, 13.26it/s]\u001b[A\n",
            "Currently for prefix:   4%|▍         | 2213/54176 [03:17<1:04:57, 13.33it/s]\u001b[A\n",
            "Currently for prefix:   4%|▍         | 2220/54176 [03:17<1:04:23, 13.45it/s]\u001b[A\n",
            "Currently for prefix:   4%|▍         | 2227/54176 [03:18<1:06:39, 12.99it/s]\u001b[A\n",
            "Currently for prefix:   4%|▍         | 2234/54176 [03:19<1:17:36, 11.15it/s]\u001b[A\n",
            "Currently for prefix:   4%|▍         | 2240/54176 [03:19<1:23:47, 10.33it/s]\u001b[A\n",
            "Currently for prefix:   4%|▍         | 2246/54176 [03:20<1:28:56,  9.73it/s]\u001b[A\n",
            "Currently for prefix:   4%|▍         | 2252/54176 [03:21<1:33:30,  9.26it/s]\u001b[A\n",
            "Currently for prefix:   4%|▍         | 2257/54176 [03:22<1:37:04,  8.91it/s]\u001b[A\n",
            "Currently for prefix:   4%|▍         | 2264/54176 [03:22<1:27:36,  9.88it/s]\u001b[A\n",
            "Currently for prefix:   4%|▍         | 2271/54176 [03:23<1:19:57, 10.82it/s]\u001b[A\n",
            "Currently for prefix:   4%|▍         | 2278/54176 [03:23<1:15:52, 11.40it/s]\u001b[A\n",
            "Currently for prefix:   4%|▍         | 2285/54176 [03:24<1:13:08, 11.82it/s]\u001b[A\n",
            "Currently for prefix:   4%|▍         | 2292/54176 [03:24<1:11:27, 12.10it/s]\u001b[A\n",
            "Currently for prefix:   4%|▍         | 2299/54176 [03:25<1:09:24, 12.46it/s]\u001b[A\n",
            "Currently for prefix:   4%|▍         | 2306/54176 [03:25<1:09:10, 12.50it/s]\u001b[A\n",
            "Currently for prefix:   4%|▍         | 2313/54176 [03:26<1:07:42, 12.77it/s]\u001b[A\n",
            "Currently for prefix:   4%|▍         | 2320/54176 [03:26<1:07:04, 12.89it/s]\u001b[A\n",
            "Currently for prefix:   4%|▍         | 2327/54176 [03:27<1:06:50, 12.93it/s]\u001b[A\n",
            "Currently for prefix:   4%|▍         | 2334/54176 [03:27<1:06:47, 12.94it/s]\u001b[A\n",
            "Currently for prefix:   4%|▍         | 2341/54176 [03:28<1:06:25, 13.01it/s]\u001b[A\n",
            "Currently for prefix:   4%|▍         | 2348/54176 [03:29<1:06:56, 12.90it/s]\u001b[A\n",
            "Currently for prefix:   4%|▍         | 2355/54176 [03:29<1:06:50, 12.92it/s]\u001b[A\n",
            "Currently for prefix:   4%|▍         | 2362/54176 [03:30<1:08:05, 12.68it/s]\u001b[A\n",
            "Currently for prefix:   4%|▍         | 2369/54176 [03:30<1:07:58, 12.70it/s]\u001b[A\n",
            "Currently for prefix:   4%|▍         | 2376/54176 [03:31<1:07:14, 12.84it/s]\u001b[A\n",
            "Currently for prefix:   4%|▍         | 2383/54176 [03:31<1:07:03, 12.87it/s]\u001b[A\n",
            "Currently for prefix:   4%|▍         | 2390/54176 [03:32<1:12:37, 11.88it/s]\u001b[A\n",
            "Currently for prefix:   4%|▍         | 2397/54176 [03:33<1:20:58, 10.66it/s]\u001b[A\n",
            "Currently for prefix:   4%|▍         | 2403/54176 [03:34<1:27:10,  9.90it/s]\u001b[A\n",
            "Currently for prefix:   4%|▍         | 2409/54176 [03:34<1:31:40,  9.41it/s]\u001b[A\n",
            "Currently for prefix:   4%|▍         | 2414/54176 [03:35<1:35:42,  9.01it/s]\u001b[A\n",
            "Currently for prefix:   4%|▍         | 2420/54176 [03:35<1:31:47,  9.40it/s]\u001b[A\n",
            "Currently for prefix:   4%|▍         | 2427/54176 [03:36<1:23:06, 10.38it/s]\u001b[A\n",
            "Currently for prefix:   4%|▍         | 2434/54176 [03:36<1:17:37, 11.11it/s]\u001b[A\n",
            "Currently for prefix:   5%|▍         | 2441/54176 [03:37<1:13:49, 11.68it/s]\u001b[A\n",
            "Currently for prefix:   5%|▍         | 2448/54176 [03:38<1:11:53, 11.99it/s]\u001b[A\n",
            "Currently for prefix:   5%|▍         | 2455/54176 [03:38<1:10:04, 12.30it/s]\u001b[A\n",
            "Currently for prefix:   5%|▍         | 2462/54176 [03:39<1:09:34, 12.39it/s]\u001b[A\n",
            "Currently for prefix:   5%|▍         | 2469/54176 [03:39<1:08:06, 12.65it/s]\u001b[A\n",
            "Currently for prefix:   5%|▍         | 2476/54176 [03:40<1:07:57, 12.68it/s]\u001b[A\n",
            "Currently for prefix:   5%|▍         | 2483/54176 [03:40<1:07:28, 12.77it/s]\u001b[A\n",
            "Currently for prefix:   5%|▍         | 2490/54176 [03:41<1:08:12, 12.63it/s]\u001b[A\n",
            "Currently for prefix:   5%|▍         | 2497/54176 [03:41<1:08:14, 12.62it/s]\u001b[A\n",
            "Currently for prefix:   5%|▍         | 2504/54176 [03:42<1:08:03, 12.65it/s]\u001b[A\n",
            "Currently for prefix:   5%|▍         | 2511/54176 [03:42<1:07:25, 12.77it/s]\u001b[A\n",
            "Currently for prefix:   5%|▍         | 2518/54176 [03:43<1:08:15, 12.61it/s]\u001b[A\n",
            "Currently for prefix:   5%|▍         | 2525/54176 [03:44<1:08:52, 12.50it/s]\u001b[A\n",
            "Currently for prefix:   5%|▍         | 2532/54176 [03:45<1:23:16, 10.34it/s]\u001b[A\n",
            "Currently for prefix:   5%|▍         | 2539/54176 [03:45<1:17:59, 11.04it/s]\u001b[A\n",
            "Currently for prefix:   5%|▍         | 2545/54176 [03:46<1:24:04, 10.23it/s]\u001b[A\n",
            "Currently for prefix:   5%|▍         | 2551/54176 [03:46<1:27:27,  9.84it/s]\u001b[A\n",
            "Currently for prefix:   5%|▍         | 2557/54176 [03:47<1:32:42,  9.28it/s]\u001b[A\n",
            "Currently for prefix:   5%|▍         | 2562/54176 [03:48<1:36:18,  8.93it/s]\u001b[A\n",
            "Currently for prefix:   5%|▍         | 2567/54176 [03:48<1:34:45,  9.08it/s]\u001b[A\n",
            "Currently for prefix:   5%|▍         | 2572/54176 [03:49<1:52:05,  7.67it/s]\u001b[A\n",
            "Currently for prefix:   5%|▍         | 2579/54176 [03:50<1:36:09,  8.94it/s]\u001b[A\n",
            "Currently for prefix:   5%|▍         | 2586/54176 [03:50<1:27:23,  9.84it/s]\u001b[A\n",
            "Currently for prefix:   5%|▍         | 2593/54176 [03:51<1:20:21, 10.70it/s]\u001b[A"
          ]
        }
      ],
      "source": [
        "for n in (1, 2, 3):\n",
        "    lm = KneserNeyLanguageModel(train_lines, n=n, delta=0.5)\n",
        "    ppx = perplexity(lm, test_lines)\n",
        "    print(\"N = %i, Perplexity = %.5f\" % (n, ppx))"
      ]
    },
    {
      "cell_type": "code",
      "source": [],
      "metadata": {
        "id": "LspLg6e1-gqm"
      },
      "execution_count": null,
      "outputs": []
    }
  ],
  "metadata": {
    "kernelspec": {
      "display_name": "Python 3 (ipykernel)",
      "language": "python",
      "name": "python3"
    },
    "language_info": {
      "codemirror_mode": {
        "name": "ipython",
        "version": 3
      },
      "file_extension": ".py",
      "mimetype": "text/x-python",
      "name": "python",
      "nbconvert_exporter": "python",
      "pygments_lexer": "ipython3",
      "version": "3.11.0"
    },
    "notebookId": "53997d2d-afb8-4477-8874-b6d46299f06c",
    "notebookPath": "seminar.ipynb",
    "colab": {
      "provenance": []
    }
  },
  "nbformat": 4,
  "nbformat_minor": 0
}